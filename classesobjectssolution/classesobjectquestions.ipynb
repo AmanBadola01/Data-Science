{
 "cells": [
  {
   "cell_type": "markdown",
   "metadata": {},
   "source": [
    "# Module: Classes and Objects Assignments\n",
    "## Lesson: Creating and Working with Classes and Objects\n",
    "### Assignment 1: Basic Class and Object Creation\n",
    "\n",
    "Create a class named `Car` with attributes `make`, `model`, and `year`. Create an object of the class and print its attributes.\n",
    "\n",
    "### Assignment 2: Methods in Class\n",
    "\n",
    "Add a method named `start_engine` to the `Car` class that prints a message when the engine starts. Create an object of the class and call the method.\n",
    "\n",
    "### Assignment 3: Class with Constructor\n",
    "\n",
    "Create a class named `Student` with attributes `name` and `age`. Use a constructor to initialize these attributes. Create an object of the class and print its attributes.\n",
    " \n",
    "### Assignment 4: Class with Private Attributes\n",
    "\n",
    "Create a class named `BankAccount` with private attributes `account_number` and `balance`. Add methods to deposit and withdraw money, and to check the balance. Create an object of the class and perform some operations.\n",
    "\n",
    "### Assignment 5: Class Inheritance\n",
    "\n",
    "Create a base class named `Person` with attributes `name` and `age`. Create a derived class named `Employee` that inherits from `Person` and adds an attribute `employee_id`. Create an object of the derived class and print its attributes.\n",
    "\n",
    "### Assignment 6: Method Overriding\n",
    "\n",
    "In the `Employee` class, override the `__str__` method to return a string representation of the object. Create an object of the class and print it.\n",
    "\n",
    "### Assignment 7: Class Composition\n",
    "\n",
    "Create a class named `Address` with attributes `street`, `city`, and `zipcode`. Create a class named `Person` that has an `Address` object as an attribute. Create an object of the `Person` class and print its address.\n",
    "\n",
    "### Assignment 8: Class with Class Variables\n",
    "\n",
    "Create a class named `Counter` with a class variable `count`. Each time an object is created, increment the count. Add a method to get the current count. Create multiple objects and print the count.\n",
    "\n",
    "### Assignment 9: Static Methods\n",
    "\n",
    "Create a class named `MathOperations` with a static method to calculate the square root of a number. Call the static method without creating an object.\n",
    "\n",
    "### Assignment 10: Class with Properties\n",
    "\n",
    "Create a class named `Rectangle` with private attributes `length` and `width`. Use properties to get and set these attributes. Create an object of the class and test the properties.\n",
    "\n",
    "### Assignment 11: Abstract Base Class\n",
    "\n",
    "Create an abstract base class named `Shape` with an abstract method `area`. Create derived classes `Circle` and `Square` that implement the `area` method. Create objects of the derived classes and call the `area` method.\n",
    "\n",
    "### Assignment 12: Operator Overloading\n",
    "\n",
    "Create a class named `Vector` with attributes `x` and `y`. Overload the `+` operator to add two `Vector` objects. Create objects of the class and test the operator overloading.\n",
    "\n",
    "### Assignment 13: Class with Custom Exception\n",
    "\n",
    "Create a custom exception named `InsufficientBalanceError`. In the `BankAccount` class, raise this exception when a withdrawal amount is greater than the balance. Handle the exception and print an appropriate message.\n",
    "\n",
    "### Assignment 14: Class with Context Manager\n",
    "\n",
    "Create a class named `FileManager` that implements the context manager protocol to open and close a file. Use this class to read the contents of a file.\n",
    "\n",
    "### Assignment 15: Chaining Methods\n",
    "\n",
    "Create a class named `Calculator` with methods to add, subtract, multiply, and divide. Each method should return the object itself to allow method chaining. Create an object and chain multiple method calls."
   ]
  },
  {
   "cell_type": "code",
   "execution_count": 1,
   "metadata": {},
   "outputs": [
    {
     "name": "stdout",
     "output_type": "stream",
     "text": [
      "<__main__.Car object at 0x000002E645602860>\n",
      "Toyota\n",
      "Fortuner\n",
      "2020\n"
     ]
    }
   ],
   "source": [
    "### Assignment 1: Basic Class and Object Creation\n",
    "\n",
    "# Create a class named `Car` with attributes `make`, `model`, and `year`. \n",
    "# Create an object of the class and print its attributes.\n",
    "\n",
    "class Car:\n",
    "    def __init__(self, make, model, year):\n",
    "        self.make = make\n",
    "        self.model = model\n",
    "        self.year = year\n",
    "\n",
    "car = Car(\"Toyota\", \"Fortuner\", 2020)\n",
    "print(car)\n",
    "print(car.make)\n",
    "print(car.model)\n",
    "print(car.year)\n",
    "        \n"
   ]
  },
  {
   "cell_type": "code",
   "execution_count": 5,
   "id": "b4f2d1d5",
   "metadata": {},
   "outputs": [
    {
     "name": "stdout",
     "output_type": "stream",
     "text": [
      "The engine Started.\n"
     ]
    }
   ],
   "source": [
    "### Assignment 2: Methods in Class\n",
    "\n",
    "# Add a method named `start_engine` to the `Car` class that prints a message when the engine starts.\n",
    "# Create an object of the class and call the method.\n",
    "class Car:\n",
    "    def __init__(self, make, model, year):\n",
    "        self.make = make\n",
    "        self.model = model\n",
    "        self.year = year\n",
    "    \n",
    "    def start_engine(self):\n",
    "        print(\"The engine Started.\")\n",
    "\n",
    "car = Car(\"Toyota\", \"Fortuner\", 2020)\n",
    "car.start_engine()"
   ]
  },
  {
   "cell_type": "code",
   "execution_count": 6,
   "id": "0e8c4466",
   "metadata": {},
   "outputs": [
    {
     "name": "stdout",
     "output_type": "stream",
     "text": [
      "10\n",
      "XYZ\n"
     ]
    }
   ],
   "source": [
    "### Assignment 3: Class with Constructor\n",
    "\n",
    "# Create a class named `Student` with attributes `name` and `age`. \n",
    "# Use a constructor to initialize these attributes. Create an object of the class and print its attributes.\n",
    "\n",
    "class Student:\n",
    "    def __init__(self, name, age):\n",
    "        self.name = name\n",
    "        self.age = age\n",
    "\n",
    "s= Student(\"XYZ\", 10)\n",
    "print(s.age)\n",
    "print(s.name)\n",
    "        \n",
    " "
   ]
  },
  {
   "cell_type": "code",
   "execution_count": 8,
   "id": "87cc9bfd",
   "metadata": {},
   "outputs": [
    {
     "name": "stdout",
     "output_type": "stream",
     "text": [
      "1000\n",
      "amount withdraw :1000\n",
      "Remaing amount: 0\n",
      "500\n",
      "Amount in your account :500\n"
     ]
    }
   ],
   "source": [
    "### Assignment 4: Class with Private Attributes\n",
    "\n",
    "# Create a class named `BankAccount` with private attributes `account_number` and `balance`. \n",
    "# Add methods to deposit and withdraw money, and to check the balance. \n",
    "# Create an object of the class and perform some operations.\n",
    "\n",
    "class BankAccount:\n",
    "    def __init__(self, account_number, balance=0):\n",
    "        self.balance = balance\n",
    "        self.account_number = account_number\n",
    "    \n",
    "    def deposit(self, amount):\n",
    "        self.balance += amount\n",
    "        print(self.balance)\n",
    "    \n",
    "    def withdraw(self, amount):\n",
    "        if self.balance == 0:\n",
    "            print(\"Account is Empty.\")\n",
    "        elif self.balance < amount:\n",
    "            print(\"Insufficient Balance\")\n",
    "        else:\n",
    "            self.balance -= amount\n",
    "        print(f\"amount withdraw :{amount}\")\n",
    "        print(f\"Remaing amount: {self.balance}\")\n",
    "\n",
    "    def check_balance(self):\n",
    "        print(f\"Amount in your account :{self.balance}\")\n",
    "\n",
    "account = BankAccount(\"12345667\", 500)\n",
    "account.deposit(500)\n",
    "account.withdraw(1000)\n",
    "\n",
    "account.deposit(500)\n",
    "account.check_balance()"
   ]
  },
  {
   "cell_type": "code",
   "execution_count": 6,
   "id": "27f4e97e",
   "metadata": {},
   "outputs": [],
   "source": [
    "### Assignment 5: Class Inheritance\n",
    "\n",
    "# Create a base class named `Person` with attributes `name` and `age`. \n",
    "# Create a derived class named `Employee` that inherits from `Person` and adds an attribute `employee_id`. \n",
    "# Create an object of the derived class and print its attributes.\n",
    "\n",
    "\n",
    "class Person:\n",
    "    def __init__(self, name, age):\n",
    "        self.name = name\n",
    "        self.age = age\n",
    "         \n",
    "class Employee(Person):\n",
    "    def __init__(self, name, age, employee_id):\n",
    "        super().__init__(name, age)\n",
    "        self.employee_id = employee_id"
   ]
  },
  {
   "cell_type": "code",
   "execution_count": 7,
   "id": "caec9c3c",
   "metadata": {},
   "outputs": [
    {
     "name": "stdout",
     "output_type": "stream",
     "text": [
      "Employee Name : XYZ , Employee Age : 38 , Employee Id : 1234554\n"
     ]
    }
   ],
   "source": [
    "### Assignment 6: Method Overriding\n",
    "\n",
    "# In the `Employee` class, override the `__str__` method to return a string representation of the object.\n",
    "# Create an object of the class and print it.\n",
    "\n",
    "\n",
    "class Employee(Person):\n",
    "    def __init__(self, name, age, employee_id):\n",
    "        super().__init__(name, age)\n",
    "        self.employee_id = employee_id\n",
    "    \n",
    "    def __str__(self):\n",
    "        return (f\"Employee Name : {self.name} , Employee Age : {self.age} , Employee Id : {self.employee_id}\")\n",
    "\n",
    "em = Employee(\"XYZ\" , 38, 1234554)\n",
    "print(em)"
   ]
  },
  {
   "cell_type": "code",
   "execution_count": 10,
   "id": "9ef8baa3",
   "metadata": {},
   "outputs": [
    {
     "name": "stdout",
     "output_type": "stream",
     "text": [
      "new Street UP 20202020\n"
     ]
    }
   ],
   "source": [
    "### Assignment 7: Class Composition\n",
    "\n",
    "# Create a class named `Address` with attributes `street`, `city`, and `zipcode`.\n",
    "# Create a class named `Person` that has an `Address` object as an attribute. \n",
    "# Create an object of the `Person` class and print its address.\n",
    "class Address:\n",
    "    def __init__(self, street, city, zipcode):\n",
    "        self.zipcode = zipcode\n",
    "        self.street = street\n",
    "        self.city = city\n",
    "\n",
    "class Person:\n",
    "    def __init__(self, address):\n",
    "        self.address = address\n",
    "\n",
    "ad = Address(\"new Street\", \"UP\", 20202020)\n",
    "p= Person(ad)\n",
    "print(p.address.street, p.address.city, p.address.zipcode)"
   ]
  },
  {
   "cell_type": "code",
   "execution_count": 11,
   "id": "76e3757c",
   "metadata": {},
   "outputs": [
    {
     "name": "stdout",
     "output_type": "stream",
     "text": [
      "2\n"
     ]
    }
   ],
   "source": [
    "## Assignment 8: Class with Class Variables\n",
    "\n",
    "# Create a class named `Counter` with a class variable `count`. \n",
    "# Each time an object is created, increment the count. \n",
    "# Add a method to get the current count. \n",
    "# Create multiple objects and print the count.\n",
    "class Counter:\n",
    "    count = 0\n",
    "\n",
    "    def __init__(self):\n",
    "        Counter.count += 1\n",
    "    \n",
    "    @classmethod\n",
    "    def get_count(cls):\n",
    "        return cls.count\n",
    "\n",
    "c1= Counter()\n",
    "c2= Counter()\n",
    "print(Counter.get_count())\n"
   ]
  },
  {
   "cell_type": "code",
   "execution_count": 12,
   "id": "b02c3c2b",
   "metadata": {},
   "outputs": [
    {
     "name": "stdout",
     "output_type": "stream",
     "text": [
      "25\n"
     ]
    }
   ],
   "source": [
    "## Assignment 9: Static Methods\n",
    "\n",
    "# Create a class named `MathOperations` with a static method to calculate the square root of a number. \n",
    "# Call the static method without creating an object.\n",
    "class MathOperations:\n",
    "    @staticmethod\n",
    "    def square(i):\n",
    "        return i* i\n",
    "    \n",
    "print(MathOperations.square(5))"
   ]
  },
  {
   "cell_type": "code",
   "execution_count": null,
   "id": "76a37979",
   "metadata": {},
   "outputs": [],
   "source": [
    "### Assignment 10: Class with Properties\n",
    "\n",
    "# Create a class named `Rectangle` with private attributes `length` and `width`. \n",
    "# Use properties to get and set these attributes. Create an object of the class and test the properties.\n",
    "class Rectangle:\n",
    "    def __init__(self, length, width):\n",
    "        self.length = length\n",
    "        self.widhth = width\n",
    "\n",
    "    @property\n",
    "    def length(self):\n",
    "        return self.length \n",
    "    \n"
   ]
  },
  {
   "cell_type": "code",
   "execution_count": null,
   "id": "469de2c3",
   "metadata": {},
   "outputs": [],
   "source": [
    "### Assignment 11: Abstract Base Class\n",
    "\n",
    "# Create an abstract base class named `Shape` with an abstract method `area`. \n",
    "# Create derived classes `Circle` and `Square` that implement the `area` method. \n",
    "# Create objects of the derived classes and call the `area` method.\n",
    "\n",
    "import math\n",
    "\n",
    "class Shape:\n",
    "    @abstractmethod\n"
   ]
  },
  {
   "cell_type": "code",
   "execution_count": null,
   "id": "17173d56",
   "metadata": {},
   "outputs": [],
   "source": [
    "\n",
    "### Assignment 12: Operator Overloading\n",
    "# Create a class named `Vector` with attributes `x` and `y`.\n",
    "#  Overload the `+` operator to add two `Vector` objects. Create objects of the class and test the operator overloading.\n",
    "\n"
   ]
  },
  {
   "cell_type": "code",
   "execution_count": null,
   "id": "f80155df",
   "metadata": {},
   "outputs": [],
   "source": [
    "# Assignment 13: Class with Custom Exception\n",
    "\n",
    "# Create a custom exception named `InsufficientBalanceError`. \n",
    "# In the `BankAccount` class, raise this exception when a withdrawal amount is greater than the balance. \n",
    "# Handle the exception and print an appropriate message.\n"
   ]
  },
  {
   "cell_type": "code",
   "execution_count": null,
   "id": "049d1f3c",
   "metadata": {},
   "outputs": [],
   "source": [
    "# Assignment 14: Class with Context Manager\n",
    "\n",
    "# Create a class named `FileManager` that implements the context manager protocol to open and close a file. \n",
    "# Use this class to read the contents of a file.\n"
   ]
  },
  {
   "cell_type": "code",
   "execution_count": null,
   "id": "c9ed76a9",
   "metadata": {},
   "outputs": [],
   "source": [
    "## Assignment 15: Chaining Methods\n",
    "\n",
    "# Create a class named `Calculator` with methods to add, subtract, multiply, and divide. \n",
    "# Each method should return the object itself to allow method chaining. Create an object and chain multiple method calls."
   ]
  }
 ],
 "metadata": {
  "kernelspec": {
   "display_name": "Python 3",
   "language": "python",
   "name": "python3"
  },
  "language_info": {
   "codemirror_mode": {
    "name": "ipython",
    "version": 3
   },
   "file_extension": ".py",
   "mimetype": "text/x-python",
   "name": "python",
   "nbconvert_exporter": "python",
   "pygments_lexer": "ipython3",
   "version": "3.10.0"
  }
 },
 "nbformat": 4,
 "nbformat_minor": 5
}
