{
 "cells": [
  {
   "cell_type": "markdown",
   "metadata": {},
   "source": [
    "# Module: Exception Handling Assignments\n",
    "## Lesson: Exception Handling with try, except, and finally\n",
    "### Assignment 1: Handling Division by Zero\n",
    "\n",
    "Write a function that takes two integers as input and returns their division. Use try, except, and finally blocks to handle division by zero and print an appropriate message.\n",
    "\n",
    "### Assignment 2: File Reading with Exception Handling\n",
    "\n",
    "Write a function that reads the contents of a file named `data.txt`. Use try, except, and finally blocks to handle file not found errors and ensure the file is properly closed.\n",
    "\n",
    "### Assignment 3: Handling Multiple Exceptions\n",
    "\n",
    "Write a function that takes a list of integers and returns their sum. Use try, except, and finally blocks to handle TypeError if a non-integer value is encountered and print an appropriate message.\n",
    "\n",
    "### Assignment 4: Exception Handling in User Input\n",
    "\n",
    "Write a function that prompts the user to enter an integer. Use try, except, and finally blocks to handle ValueError if the user enters a non-integer value and print an appropriate message.\n",
    "\n",
    "### Assignment 5: Exception Handling in Dictionary Access\n",
    "\n",
    "Write a function that takes a dictionary and a key as input and returns the value associated with the key. Use try, except, and finally blocks to handle KeyError if the key is not found in the dictionary and print an appropriate message.\n",
    "\n",
    "### Assignment 6: Nested Exception Handling\n",
    "\n",
    "Write a function that performs nested exception handling. It should first attempt to convert a string to an integer, and then attempt to divide by that integer. Use nested try, except, and finally blocks to handle ValueError and ZeroDivisionError and print appropriate messages.\n",
    "\n",
    "### Assignment 7: Exception Handling in List Operations\n",
    "\n",
    "Write a function that takes a list and an index as input and returns the element at the given index. Use try, except, and finally blocks to handle IndexError if the index is out of range and print an appropriate message.\n",
    "\n",
    "### Assignment 8: Exception Handling in Network Operations\n",
    "\n",
    "Write a function that attempts to open a URL and read its contents. Use try, except, and finally blocks to handle network-related errors and print an appropriate message.\n",
    "\n",
    "### Assignment 9: Exception Handling in JSON Parsing\n",
    "\n",
    "Write a function that attempts to parse a JSON string. Use try, except, and finally blocks to handle JSONDecodeError if the string is not a valid JSON and print an appropriate message.\n",
    "\n",
    "### Assignment 10: Custom Exception Handling\n",
    "\n",
    "Define a custom exception named `NegativeNumberError`. Write a function that raises this exception if a negative number is encountered in a list. Use try, except, and finally blocks to handle the custom exception and print an appropriate message.\n",
    "\n",
    "### Assignment 11: Exception Handling in Function Calls\n",
    "\n",
    "Write a function that calls another function which may raise an exception. Use try, except, and finally blocks to handle the exception and print an appropriate message.\n",
    "\n",
    "### Assignment 12: Exception Handling in Class Methods\n",
    "\n",
    "Define a class with a method that performs a division operation. Use try, except, and finally blocks within the method to handle division by zero and print an appropriate message.\n",
    "\n",
    "### Assignment 13: Exception Handling in Data Conversion\n",
    "\n",
    "Write a function that takes a list of strings and converts them to integers. Use try, except, and finally blocks to handle ValueError if a string cannot be converted and print an appropriate message.\n",
    "\n",
    "### Assignment 14: Exception Handling in List Comprehensions\n",
    "\n",
    "Write a function that uses a list comprehension to convert a list of strings to integers. Use try, except, and finally blocks within the list comprehension to handle ValueError and print an appropriate message.\n",
    "\n",
    "### Assignment 15: Exception Handling in File Writing\n",
    "\n",
    "Write a function that attempts to write a list of strings to a file. Use try, except, and finally blocks to handle IOError and ensure the file is properly closed."
   ]
  },
  {
   "cell_type": "code",
   "execution_count": 9,
   "id": "8b3b7d23",
   "metadata": {},
   "outputs": [
    {
     "name": "stdout",
     "output_type": "stream",
     "text": [
      "division by zero\n",
      "Both numbers can not be zero.\n"
     ]
    }
   ],
   "source": [
    "### Assignment 1: Handling Division by Zero\n",
    "\n",
    "# Write a function that takes two integers as input and returns their division. Use try, except, \n",
    "# and finally blocks to handle division by zero and print an appropriate message.\n",
    "\n",
    "def division(a, b):\n",
    "    try:\n",
    "        result = b/a\n",
    "        print(result)\n",
    "    except ZeroDivisionError as ex:\n",
    "        print(ex)\n",
    "        print(\"Both numbers can not be zero.\")\n",
    "\n",
    "\n",
    "division(0,2)"
   ]
  },
  {
   "cell_type": "code",
   "execution_count": 16,
   "id": "0a464cba",
   "metadata": {},
   "outputs": [
    {
     "name": "stdout",
     "output_type": "stream",
     "text": [
      "No File found with this name.\n"
     ]
    },
    {
     "ename": "UnboundLocalError",
     "evalue": "local variable 'file' referenced before assignment",
     "output_type": "error",
     "traceback": [
      "\u001b[1;31m---------------------------------------------------------------------------\u001b[0m",
      "\u001b[1;31mUnboundLocalError\u001b[0m                         Traceback (most recent call last)",
      "Cell \u001b[1;32mIn[16], line 23\u001b[0m\n\u001b[0;32m     20\u001b[0m         \u001b[38;5;28;01melse\u001b[39;00m:\n\u001b[0;32m     21\u001b[0m             \u001b[38;5;28mprint\u001b[39m(\u001b[38;5;124m\"\u001b[39m\u001b[38;5;124mMake a file.\u001b[39m\u001b[38;5;124m\"\u001b[39m)\n\u001b[1;32m---> 23\u001b[0m \u001b[43mfile\u001b[49m\u001b[43m(\u001b[49m\u001b[43m)\u001b[49m\n",
      "Cell \u001b[1;32mIn[16], line 17\u001b[0m, in \u001b[0;36mfile\u001b[1;34m()\u001b[0m\n\u001b[0;32m     15\u001b[0m     \u001b[38;5;28mprint\u001b[39m(ex)\n\u001b[0;32m     16\u001b[0m \u001b[38;5;28;01mfinally\u001b[39;00m:\n\u001b[1;32m---> 17\u001b[0m     \u001b[38;5;28;01mif\u001b[39;00m \u001b[43mfile\u001b[49m \u001b[38;5;129;01min\u001b[39;00m \u001b[38;5;28mlocals\u001b[39m() \u001b[38;5;129;01mor\u001b[39;00m \u001b[38;5;129;01mnot\u001b[39;00m file\u001b[38;5;241m.\u001b[39mclosed():\n\u001b[0;32m     18\u001b[0m         file\u001b[38;5;241m.\u001b[39mclosed()\n\u001b[0;32m     19\u001b[0m         \u001b[38;5;28mprint\u001b[39m(\u001b[38;5;124m\"\u001b[39m\u001b[38;5;124mFile closed.\u001b[39m\u001b[38;5;124m\"\u001b[39m)\n",
      "\u001b[1;31mUnboundLocalError\u001b[0m: local variable 'file' referenced before assignment"
     ]
    }
   ],
   "source": [
    "\n",
    "### Assignment 2: File Reading with Exception Handling\n",
    "\n",
    "# Write a function that reads the contents of a file named `data.txt`.\n",
    "# Use try, except, and finally blocks to handle file not found errors and ensure the file is properly closed.\n",
    "\n",
    "\n",
    "def file():\n",
    "    try: \n",
    "        file = open('data.txt', 'r')\n",
    "        content = file.read()\n",
    "        print(content)\n",
    "    except FileNotFoundError :\n",
    "        print(\"No File found with this name.\")\n",
    "    except Exception  as ex :\n",
    "        print(ex)\n",
    "    finally:\n",
    "        if file in locals() or not file.closed():\n",
    "            file.closed()\n",
    "            print(\"File closed.\")\n",
    "        else:\n",
    "            print(\"Make a file.\")\n",
    "\n",
    "file()"
   ]
  },
  {
   "cell_type": "code",
   "execution_count": null,
   "id": "aa490c96",
   "metadata": {},
   "outputs": [],
   "source": [
    "\n",
    "### Assignment 3: Handling Multiple Exceptions\n",
    "\n",
    "Write a function that takes a list of integers and returns their sum. Use try, except, and finally blocks to handle TypeError if a non-integer value is encountered and print an appropriate message.\n"
   ]
  },
  {
   "cell_type": "code",
   "execution_count": null,
   "id": "0dfe0638",
   "metadata": {},
   "outputs": [],
   "source": [
    "\n",
    "### Assignment 4: Exception Handling in User Input\n",
    "\n",
    "Write a function that prompts the user to enter an integer. Use try, except, and finally blocks to handle ValueError if the user enters a non-integer value and print an appropriate message.\n"
   ]
  },
  {
   "cell_type": "code",
   "execution_count": null,
   "id": "29900b47",
   "metadata": {},
   "outputs": [],
   "source": [
    "\n",
    "### Assignment 5: Exception Handling in Dictionary Access\n",
    "\n",
    "Write a function that takes a dictionary and a key as input and returns the value associated with the key. Use try, except, and finally blocks to handle KeyError if the key is not found in the dictionary and print an appropriate message.\n"
   ]
  },
  {
   "cell_type": "code",
   "execution_count": null,
   "id": "c8c216fb",
   "metadata": {},
   "outputs": [],
   "source": [
    "### Assignment 6: Nested Exception Handling\n",
    "\n",
    "Write a function that performs nested exception handling. It should first attempt to convert a string to an integer, and then attempt to divide by that integer. Use nested try, except, and finally blocks to handle ValueError and ZeroDivisionError and print appropriate messages.\n"
   ]
  },
  {
   "cell_type": "code",
   "execution_count": null,
   "id": "0efdca52",
   "metadata": {},
   "outputs": [],
   "source": [
    "### Assignment 7: Exception Handling in List Operations\n",
    "\n",
    "Write a function that takes a list and an index as input and returns the element at the given index. Use try, except, and finally blocks to handle IndexError if the index is out of range and print an appropriate message.\n"
   ]
  },
  {
   "cell_type": "code",
   "execution_count": null,
   "id": "3bbc9452",
   "metadata": {},
   "outputs": [],
   "source": [
    "### Assignment 8: Exception Handling in Network Operations\n",
    "\n",
    "Write a function that attempts to open a URL and read its contents. Use try, except, and finally blocks to handle network-related errors and print an appropriate message.\n",
    "\n",
    "\n",
    "\n",
    "\n"
   ]
  },
  {
   "cell_type": "code",
   "execution_count": null,
   "id": "378c4f59",
   "metadata": {},
   "outputs": [],
   "source": [
    "### Assignment 9: Exception Handling in JSON Parsing\n",
    "\n",
    "Write a function that attempts to parse a JSON string. Use try, except, and finally blocks to handle JSONDecodeError if the string is not a valid JSON and print an appropriate message.\n"
   ]
  },
  {
   "cell_type": "code",
   "execution_count": null,
   "id": "3ea1f913",
   "metadata": {},
   "outputs": [],
   "source": [
    "### Assignment 10: Custom Exception Handling\n",
    "\n",
    "Define a custom exception named `NegativeNumberError`. Write a function that raises this exception if a negative number is encountered in a list. Use try, except, and finally blocks to handle the custom exception and print an appropriate message.\n"
   ]
  },
  {
   "cell_type": "code",
   "execution_count": null,
   "id": "a4d2e83b",
   "metadata": {},
   "outputs": [],
   "source": [
    "\n",
    "### Assignment 11: Exception Handling in Function Calls\n",
    "\n",
    "Write a function that calls another function which may raise an exception. Use try, except, and finally blocks to handle the exception and print an appropriate message.\n"
   ]
  },
  {
   "cell_type": "code",
   "execution_count": null,
   "id": "b2385087",
   "metadata": {},
   "outputs": [],
   "source": [
    "### Assignment 12: Exception Handling in Class Methods\n",
    "\n",
    "Define a class with a method that performs a division operation. Use try, except, and finally blocks within the method to handle division by zero and print an appropriate message.\n"
   ]
  },
  {
   "cell_type": "code",
   "execution_count": null,
   "id": "3a438ab7",
   "metadata": {},
   "outputs": [],
   "source": [
    "### Assignment 13: Exception Handling in Data Conversion\n",
    "\n",
    "Write a function that takes a list of strings and converts them to integers. Use try, except, and finally blocks to handle ValueError if a string cannot be converted and print an appropriate message.\n"
   ]
  },
  {
   "cell_type": "code",
   "execution_count": null,
   "id": "0f6496d2",
   "metadata": {},
   "outputs": [],
   "source": [
    "\n",
    "### Assignment 14: Exception Handling in List Comprehensions\n",
    "\n",
    "Write a function that uses a list comprehension to convert a list of strings to integers. Use try, except, and finally blocks within the list comprehension to handle ValueError and print an appropriate message."
   ]
  },
  {
   "cell_type": "code",
   "execution_count": null,
   "id": "79bdcbd5",
   "metadata": {},
   "outputs": [],
   "source": [
    "### Assignment 15: Exception Handling in File Writing\n",
    "\n",
    "Write a function that attempts to write a list of strings to a file. Use try, except, and finally blocks to handle IOError and ensure the file is properly closed."
   ]
  },
  {
   "cell_type": "code",
   "execution_count": null,
   "id": "e1bc0ee7",
   "metadata": {},
   "outputs": [],
   "source": []
  },
  {
   "cell_type": "code",
   "execution_count": null,
   "id": "8e047234",
   "metadata": {},
   "outputs": [],
   "source": []
  },
  {
   "cell_type": "code",
   "execution_count": null,
   "id": "ed395c7c",
   "metadata": {},
   "outputs": [],
   "source": []
  },
  {
   "cell_type": "code",
   "execution_count": null,
   "id": "1c4237cd",
   "metadata": {},
   "outputs": [],
   "source": []
  },
  {
   "cell_type": "code",
   "execution_count": null,
   "id": "db6a63de",
   "metadata": {},
   "outputs": [],
   "source": []
  },
  {
   "cell_type": "code",
   "execution_count": null,
   "id": "02604ec8",
   "metadata": {},
   "outputs": [],
   "source": []
  },
  {
   "cell_type": "code",
   "execution_count": null,
   "id": "0099a4ec",
   "metadata": {},
   "outputs": [],
   "source": []
  },
  {
   "cell_type": "code",
   "execution_count": null,
   "id": "c19ecaa8",
   "metadata": {},
   "outputs": [],
   "source": []
  },
  {
   "cell_type": "code",
   "execution_count": null,
   "id": "38ed9def",
   "metadata": {},
   "outputs": [],
   "source": []
  },
  {
   "cell_type": "code",
   "execution_count": null,
   "id": "fc8eccfc",
   "metadata": {},
   "outputs": [],
   "source": []
  },
  {
   "cell_type": "code",
   "execution_count": null,
   "id": "bcc88cef",
   "metadata": {},
   "outputs": [],
   "source": []
  },
  {
   "cell_type": "code",
   "execution_count": null,
   "id": "a14fde75",
   "metadata": {},
   "outputs": [],
   "source": []
  },
  {
   "cell_type": "code",
   "execution_count": null,
   "id": "5f7ec5c3",
   "metadata": {},
   "outputs": [],
   "source": []
  },
  {
   "cell_type": "code",
   "execution_count": null,
   "id": "31461795",
   "metadata": {},
   "outputs": [],
   "source": []
  },
  {
   "cell_type": "code",
   "execution_count": null,
   "id": "bf4bab8a",
   "metadata": {},
   "outputs": [],
   "source": []
  },
  {
   "cell_type": "code",
   "execution_count": null,
   "id": "e6b536c7",
   "metadata": {},
   "outputs": [],
   "source": []
  },
  {
   "cell_type": "code",
   "execution_count": null,
   "id": "8b127376",
   "metadata": {},
   "outputs": [],
   "source": []
  },
  {
   "cell_type": "code",
   "execution_count": null,
   "id": "656d4a0c",
   "metadata": {},
   "outputs": [],
   "source": []
  },
  {
   "cell_type": "code",
   "execution_count": null,
   "id": "a10bc38d",
   "metadata": {},
   "outputs": [],
   "source": []
  },
  {
   "cell_type": "code",
   "execution_count": null,
   "id": "a6d526cd",
   "metadata": {},
   "outputs": [],
   "source": []
  }
 ],
 "metadata": {
  "kernelspec": {
   "display_name": "Python 3",
   "language": "python",
   "name": "python3"
  },
  "language_info": {
   "codemirror_mode": {
    "name": "ipython",
    "version": 3
   },
   "file_extension": ".py",
   "mimetype": "text/x-python",
   "name": "python",
   "nbconvert_exporter": "python",
   "pygments_lexer": "ipython3",
   "version": "3.10.0"
  }
 },
 "nbformat": 4,
 "nbformat_minor": 5
}
