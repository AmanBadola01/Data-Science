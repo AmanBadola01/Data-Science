{
 "cells": [
  {
   "cell_type": "code",
   "execution_count": 5,
   "id": "d51f16e8",
   "metadata": {},
   "outputs": [],
   "source": [
    "import sqlite3"
   ]
  },
  {
   "cell_type": "code",
   "execution_count": 6,
   "id": "cf4a6c08",
   "metadata": {},
   "outputs": [
    {
     "data": {
      "text/plain": [
       "<sqlite3.Connection at 0x25ae10a0040>"
      ]
     },
     "execution_count": 6,
     "metadata": {},
     "output_type": "execute_result"
    }
   ],
   "source": [
    "#Connect to an SQLite database\n",
    "connection = sqlite3.connect('eaxmple.db')\n",
    "connection"
   ]
  },
  {
   "cell_type": "code",
   "execution_count": 7,
   "id": "c28f894f",
   "metadata": {},
   "outputs": [],
   "source": [
    "#Defining a cursor which helps to do iteration in the DB.\n",
    "cursor = connection.cursor()"
   ]
  },
  {
   "cell_type": "code",
   "execution_count": 10,
   "id": "1750866b",
   "metadata": {},
   "outputs": [],
   "source": [
    "#Create a table\n",
    "# cursor.execute('''\n",
    "# Create Table If Not Exists employees(\n",
    "#     id Int Primary Key AUTOINCREMENT,\n",
    "#     name Varchar Not Null,\n",
    "#     age Integer,\n",
    "#     department text\n",
    "#     )\n",
    "# ''')\n",
    "\n",
    "# #Commit the changes\n",
    "# connection.commit()"
   ]
  },
  {
   "cell_type": "code",
   "execution_count": null,
   "id": "beb0e1f6",
   "metadata": {},
   "outputs": [],
   "source": [
    "#Insert Data in sqlite table\n",
    "cursor.execute('''\n",
    "Insert Into employees(name, age, department)\n",
    "               values('Aman', 27, 'Data Scientist')\n",
    "# '''\n",
    ")\n",
    "\n",
    "cursor.execute('''\n",
    "Insert Into employees(name, age, department)\n",
    "               values('ABC', 35, 'Java Developer')\n",
    "'''\n",
    ")\n",
    "\n",
    "cursor.execute('''\n",
    "Insert Into employees(name, age, department)\n",
    "               values('XYZ', 41, 'Android developer')\n",
    "'''\n",
    ")\n",
    "\n",
    "#Commit the changes \n",
    "connection.commit()"
   ]
  },
  {
   "cell_type": "code",
   "execution_count": null,
   "id": "ef149d84",
   "metadata": {},
   "outputs": [
    {
     "name": "stdout",
     "output_type": "stream",
     "text": [
      "(None, 'Aman', 27, 'Data Scientist')\n",
      "(None, 'ABC', 35, 'Java Developer')\n",
      "(None, 'XYZ', 41, 'Android developer')\n"
     ]
    }
   ],
   "source": [
    "# Query data from the table\n",
    "cursor.execute('select * from employees')\n",
    "rows= cursor.fetchall()\n",
    "\n",
    "# Print the queried data\n",
    "for row in rows:\n",
    "    print(row)"
   ]
  },
  {
   "cell_type": "code",
   "execution_count": null,
   "id": "40218e67",
   "metadata": {},
   "outputs": [],
   "source": [
    "#Delete all the rows from the table\n",
    "\n",
    "# cursor.execute(\"DELETE FROM employees\")\n",
    "# connection.commit()"
   ]
  },
  {
   "cell_type": "code",
   "execution_count": null,
   "id": "dc1ba2b9",
   "metadata": {},
   "outputs": [],
   "source": [
    "#Update the data in the table\n",
    "cursor.execute('''\n",
    "UPDATE employees \n",
    "Set age = 19 \n",
    "Where name = 'Aman'    \n",
    "''')\n",
    "\n",
    "connection.commit()"
   ]
  },
  {
   "cell_type": "code",
   "execution_count": null,
   "id": "15ab073b",
   "metadata": {},
   "outputs": [
    {
     "name": "stdout",
     "output_type": "stream",
     "text": [
      "(None, 'Aman', 19, 'Data Scientist')\n",
      "(None, 'ABC', 35, 'Java Developer')\n",
      "(None, 'XYZ', 41, 'Android developer')\n"
     ]
    }
   ],
   "source": [
    "# Query data from the table\n",
    "cursor.execute('select * from employees')\n",
    "rows= cursor.fetchall()\n",
    "\n",
    "# Print the queried data\n",
    "for row in rows:\n",
    "    print(row)"
   ]
  },
  {
   "cell_type": "code",
   "execution_count": null,
   "id": "cd577ba1",
   "metadata": {},
   "outputs": [
    {
     "data": {
      "text/plain": [
       "<sqlite3.Cursor at 0x1f3503fcb40>"
      ]
     },
     "execution_count": 26,
     "metadata": {},
     "output_type": "execute_result"
    }
   ],
   "source": [
    "#Delete a single line form the data\n",
    "cursor.execute('''\n",
    "Delete from employees\n",
    "where name = 'XYZ' \n",
    "\n",
    "''')"
   ]
  },
  {
   "cell_type": "code",
   "execution_count": null,
   "id": "d6e1187d",
   "metadata": {},
   "outputs": [
    {
     "name": "stdout",
     "output_type": "stream",
     "text": [
      "(None, 'Aman', 19, 'Data Scientist')\n",
      "(None, 'ABC', 35, 'Java Developer')\n"
     ]
    }
   ],
   "source": [
    "# Query data from the table\n",
    "cursor.execute('select * from employees')\n",
    "rows= cursor.fetchall()\n",
    "\n",
    "# Print the queried data\n",
    "for row in rows:\n",
    "    print(row)"
   ]
  },
  {
   "cell_type": "markdown",
   "id": "2a48b512",
   "metadata": {},
   "source": [
    "***Project***\n"
   ]
  },
  {
   "cell_type": "code",
   "execution_count": null,
   "id": "05ce6874",
   "metadata": {},
   "outputs": [],
   "source": [
    "#Working with sqlite3\n",
    "import sqlite3\n",
    "\n",
    "# cursor.execute(\"DROP TABLE IF EXISTS sales\") -> used this because have excuted multiple times\n",
    "\n",
    "#1. Connect to an SQLite database\n",
    "connection = sqlite3.connect('sales_data.db')\n",
    "cursor= connection.cursor()\n",
    "\n",
    "#2. Create a table for the sales data\n",
    "cursor.execute(\n",
    "'''\n",
    "CREATE TABLE If not Exists sales (\n",
    "    id Integer Primary Key,\n",
    "    date text not null,\n",
    "    product text not null,\n",
    "    sales Int,\n",
    "    region text\n",
    ")\n",
    "'''\n",
    ")\n",
    "\n",
    "#3. Inserting some data\n",
    "sales_data= [\n",
    "    ('2025-01-01', 'p1', 100, 'North'),\n",
    "    ('2025-01-02', 'p2', 400, 'South'),\n",
    "    ('2025-01-03', 'p3', 600, 'East'),\n",
    "    ('2025-01-04', 'p4', 200, 'North'),\n",
    "    ('2025-01-05', 'p5', 700, 'West')\n",
    "\n",
    "]\n",
    "\n",
    "#4. Inserting into the table (2 WAYS)\n",
    "\n",
    "# 1st Way -> (One Entry At a time)\n",
    "# cursor.execute('''\n",
    "# Insert Into employees(name, age, department)\n",
    "#                values('XYZ', 41, 'Android developer')\n",
    "# '''\n",
    "# )\n",
    "\n",
    "# 2nd Way -> (Bulk Entry at once)\n",
    "cursor.executemany('''\n",
    "Insert into sales(date, product, sales, region)\n",
    "                   values(?,?,?,?)\n",
    "''', sales_data)\n",
    "\n",
    "#5. Commiting all the changes\n",
    "connection.commit()\n",
    "\n"
   ]
  },
  {
   "cell_type": "code",
   "execution_count": null,
   "id": "6bbeef23",
   "metadata": {},
   "outputs": [
    {
     "name": "stdout",
     "output_type": "stream",
     "text": [
      "(1, '2025-01-01', 'p1', 100, 'North')\n",
      "(2, '2025-01-02', 'p2', 400, 'South')\n",
      "(3, '2025-01-03', 'p3', 600, 'East')\n",
      "(4, '2025-01-04', 'p4', 200, 'North')\n",
      "(5, '2025-01-05', 'p5', 700, 'West')\n"
     ]
    }
   ],
   "source": [
    "#6. Query data from the table\n",
    "cursor.execute('select * from sales')\n",
    "rows= cursor.fetchall()\n",
    "\n",
    "# Print the queried data\n",
    "for row in rows:\n",
    "    print(row)"
   ]
  },
  {
   "cell_type": "code",
   "execution_count": null,
   "id": "709bcd7c",
   "metadata": {},
   "outputs": [],
   "source": [
    "#7. Closing the connection form the database\n",
    "cursor.close()"
   ]
  },
  {
   "cell_type": "code",
   "execution_count": null,
   "id": "975bcf72",
   "metadata": {},
   "outputs": [],
   "source": [
    "#Checking for the closure of the database\n",
    "\n",
    "# cursor.execute('select * from sales')\n",
    "# rows= cursor.fetchall()\n",
    "\n",
    "# # Print the queried data\n",
    "# for row in rows:\n",
    "#     print(row)"
   ]
  }
 ],
 "metadata": {
  "kernelspec": {
   "display_name": "Python 3",
   "language": "python",
   "name": "python3"
  },
  "language_info": {
   "codemirror_mode": {
    "name": "ipython",
    "version": 3
   },
   "file_extension": ".py",
   "mimetype": "text/x-python",
   "name": "python",
   "nbconvert_exporter": "python",
   "pygments_lexer": "ipython3",
   "version": "3.12.0"
  }
 },
 "nbformat": 4,
 "nbformat_minor": 5
}
