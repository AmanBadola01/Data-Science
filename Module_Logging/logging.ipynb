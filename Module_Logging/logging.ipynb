{
 "cells": [
  {
   "cell_type": "code",
   "execution_count": 1,
   "id": "12377a7d",
   "metadata": {},
   "outputs": [
    {
     "name": "stderr",
     "output_type": "stream",
     "text": [
      "DEBUG:root:This is a debug message.\n",
      "INFO:root:This is a info message.\n",
      "WARNING:root:This is a warning message.\n",
      "ERROR:root:This is an error message.\n",
      "CRITICAL:root:This is a cirtical message.\n"
     ]
    }
   ],
   "source": [
    "#Logging in python \n",
    "\n",
    "import logging\n",
    "\n",
    "#Configure Basic logging setting\n",
    "logging.basicConfig(level=logging.DEBUG)\n",
    "\n",
    "#Log message with different severity levels\n",
    "logging.debug(\"This is a debug message.\")\n",
    "logging.info(\"This is a info message.\")\n",
    "logging.warning(\"This is a warning message.\")\n",
    "logging.error(\"This is an error message.\")\n",
    "logging.critical(\"This is a cirtical message.\")"
   ]
  },
  {
   "cell_type": "code",
   "execution_count": 1,
   "id": "bd55de25",
   "metadata": {},
   "outputs": [],
   "source": [
    "import logging\n",
    "logging.basicConfig(\n",
    "    filename='app.log',\n",
    "    filemode='w',\n",
    "    level=logging.DEBUG,\n",
    "    format='%(asctime)s-%(name)s-%(levelname)s-%(message)s',\n",
    "    datefmt='%Y-%m-%d %H:%M:%S'\n",
    ")\n",
    "\n",
    "\n",
    "#Log message with different severity levels\n",
    "logging.debug(\"This is a debug message.\")\n",
    "logging.info(\"This is a info message.\")\n",
    "logging.warning(\"This is a warning message.\")\n",
    "logging.error(\"This is an error message.\")\n",
    "logging.critical(\"This is a cirtical message.\")"
   ]
  },
  {
   "cell_type": "markdown",
   "id": "bb123257",
   "metadata": {},
   "source": [
    "Loggin with Multiple Loggers\n"
   ]
  },
  {
   "cell_type": "code",
   "execution_count": 1,
   "id": "a8c13715",
   "metadata": {},
   "outputs": [],
   "source": [
    "import logging\n",
    "#Create logger for module1\n",
    "logger1 = logging.getLogger('module1')\n",
    "logger1.setLevel(logging.DEBUG)\n",
    "\n",
    "#Create logger for module2\n",
    "logger2= logging.getLogger('module2')\n",
    "logger2.setLevel(logging.WARNING)\n",
    "\n",
    "#Configure logging setting\n",
    "logging.basicConfig(\n",
    "    level=logging.DEBUG,\n",
    "    format='%(asctime)s-%(name)s-%(levelname)s-%(message)s',\n",
    "    datefmt='%Y-%m-%d %H:%M:%S'\n",
    ")"
   ]
  },
  {
   "cell_type": "code",
   "execution_count": 2,
   "id": "8ddc3c76",
   "metadata": {},
   "outputs": [
    {
     "name": "stderr",
     "output_type": "stream",
     "text": [
      "2025-06-27 11:29:13-module1-DEBUG-This is debug message for module1.\n",
      "2025-06-27 11:29:13-module1-WARNING-This is warning message for module1.\n",
      "2025-06-27 11:29:13-module2-WARNING-This is warning message for module2.\n"
     ]
    }
   ],
   "source": [
    "#log message with different loggers\n",
    "logger1.debug(\"This is debug message for module1.\")\n",
    "logger1.warning(\"This is warning message for module1.\")\n",
    "logger2.warning(\"This is warning message for module2.\")"
   ]
  },
  {
   "cell_type": "code",
   "execution_count": null,
   "id": "fa8ffc24",
   "metadata": {},
   "outputs": [],
   "source": []
  },
  {
   "cell_type": "code",
   "execution_count": null,
   "id": "513e866f",
   "metadata": {},
   "outputs": [],
   "source": []
  },
  {
   "cell_type": "code",
   "execution_count": null,
   "id": "cc883720",
   "metadata": {},
   "outputs": [],
   "source": []
  },
  {
   "cell_type": "code",
   "execution_count": null,
   "id": "b6255326",
   "metadata": {},
   "outputs": [],
   "source": []
  }
 ],
 "metadata": {
  "kernelspec": {
   "display_name": "Python 3",
   "language": "python",
   "name": "python3"
  },
  "language_info": {
   "codemirror_mode": {
    "name": "ipython",
    "version": 3
   },
   "file_extension": ".py",
   "mimetype": "text/x-python",
   "name": "python",
   "nbconvert_exporter": "python",
   "pygments_lexer": "ipython3",
   "version": "3.12.0"
  }
 },
 "nbformat": 4,
 "nbformat_minor": 5
}
