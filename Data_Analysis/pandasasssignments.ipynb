{
 "cells": [
  {
   "cell_type": "markdown",
   "metadata": {},
   "source": [
    "# Module: Pandas Assignments\n",
    "## Lesson: Pandas\n",
    "### Assignment 1: DataFrame Creation and Indexing\n",
    "\n",
    "1. Create a Pandas DataFrame with 4 columns and 6 rows filled with random integers. Set the index to be the first column.\n",
    "2. Create a Pandas DataFrame with columns 'A', 'B', 'C' and index 'X', 'Y', 'Z'. Fill the DataFrame with random integers and access the element at row 'Y' and column 'B'.\n",
    "\n",
    "### Assignment 2: DataFrame Operations\n",
    "\n",
    "1. Create a Pandas DataFrame with 3 columns and 5 rows filled with random integers. Add a new column that is the product of the first two columns.\n",
    "2. Create a Pandas DataFrame with 3 columns and 4 rows filled with random integers. Compute the row-wise and column-wise sum.\n",
    "\n",
    "### Assignment 3: Data Cleaning\n",
    "\n",
    "1. Create a Pandas DataFrame with 3 columns and 5 rows filled with random integers. Introduce some NaN values. Fill the NaN values with the mean of the respective columns.\n",
    "2. Create a Pandas DataFrame with 4 columns and 6 rows filled with random integers. Introduce some NaN values. Drop the rows with any NaN values.\n",
    "\n",
    "### Assignment 4: Data Aggregation\n",
    "\n",
    "1. Create a Pandas DataFrame with 2 columns: 'Category' and 'Value'. Fill the 'Category' column with random categories ('A', 'B', 'C') and the 'Value' column with random integers. Group the DataFrame by 'Category' and compute the sum and mean of 'Value' for each category.\n",
    "2. Create a Pandas DataFrame with 3 columns: 'Product', 'Category', and 'Sales'. Fill the DataFrame with random data. Group the DataFrame by 'Category' and compute the total sales for each category.\n",
    "\n",
    "### Assignment 5: Merging DataFrames\n",
    "\n",
    "1. Create two Pandas DataFrames with a common column. Merge the DataFrames using the common column.\n",
    "2. Create two Pandas DataFrames with different columns. Concatenate the DataFrames along the rows and along the columns.\n",
    "\n",
    "### Assignment 6: Time Series Analysis\n",
    "\n",
    "1. Create a Pandas DataFrame with a datetime index and one column filled with random integers. Resample the DataFrame to compute the monthly mean of the values.\n",
    "2. Create a Pandas DataFrame with a datetime index ranging from '2021-01-01' to '2021-12-31' and one column filled with random integers. Compute the rolling mean with a window of 7 days.\n",
    "\n",
    "### Assignment 7: MultiIndex DataFrame\n",
    "\n",
    "1. Create a Pandas DataFrame with a MultiIndex (hierarchical index). Perform some basic indexing and slicing operations on the MultiIndex DataFrame.\n",
    "2. Create a Pandas DataFrame with MultiIndex consisting of 'Category' and 'SubCategory'. Fill the DataFrame with random data and compute the sum of values for each 'Category' and 'SubCategory'.\n",
    "\n",
    "### Assignment 8: Pivot Tables\n",
    "\n",
    "1. Create a Pandas DataFrame with columns 'Date', 'Category', and 'Value'. Create a pivot table to compute the sum of 'Value' for each 'Category' by 'Date'.\n",
    "2. Create a Pandas DataFrame with columns 'Year', 'Quarter', and 'Revenue'. Create a pivot table to compute the mean 'Revenue' for each 'Quarter' by 'Year'.\n",
    "\n",
    "### Assignment 9: Applying Functions\n",
    "\n",
    "1. Create a Pandas DataFrame with 3 columns and 5 rows filled with random integers. Apply a function that doubles the values of the DataFrame.\n",
    "2. Create a Pandas DataFrame with 3 columns and 6 rows filled with random integers. Apply a lambda function to create a new column that is the sum of the existing columns.\n",
    "\n",
    "### Assignment 10: Working with Text Data\n",
    "\n",
    "1. Create a Pandas Series with 5 random text strings. Convert all the strings to uppercase.\n",
    "2. Create a Pandas Series with 5 random text strings. Extract the first three characters of each string.\n"
   ]
  },
  {
   "cell_type": "code",
   "execution_count": 1,
   "id": "b572f696",
   "metadata": {},
   "outputs": [],
   "source": [
    "import pandas as pd\n",
    "import numpy as np"
   ]
  },
  {
   "cell_type": "code",
   "execution_count": 7,
   "id": "3907a0d6",
   "metadata": {},
   "outputs": [
    {
     "name": "stdout",
     "output_type": "stream",
     "text": [
      "     A   B   C  D\n",
      "0  10   3   7  3\n",
      "1   4  10   7  4\n",
      "2   4   8  10  7\n",
      "3   9   7   7  9\n",
      "4   5   5   5  4\n",
      "5   8   9   8  4\n",
      "     B   C  D\n",
      "A            \n",
      "10   3   7  3\n",
      "4   10   7  4\n",
      "4    8  10  7\n",
      "9    7   7  9\n",
      "5    5   5  4\n",
      "8    9   8  4\n"
     ]
    }
   ],
   "source": [
    "## Assignment 1: DataFrame Creation and Indexing\n",
    "\n",
    "# 1. Create a Pandas DataFrame with 4 columns and 6 rows filled with random integers. \n",
    "# Set the index to be the first column.\n",
    "\n",
    "df1 = pd.DataFrame(np.random.randint(1,11, (6,4)), columns= ['A', 'B', 'C', 'D'])\n",
    "print(\"\",df1)\n",
    "\n",
    "df1.set_index(\"A\", inplace=True)\n",
    "print(df1)"
   ]
  },
  {
   "cell_type": "code",
   "execution_count": 16,
   "id": "3b87ec47",
   "metadata": {},
   "outputs": [
    {
     "name": "stdout",
     "output_type": "stream",
     "text": [
      "DataFrame: \n",
      "\n",
      "    A   B   C\n",
      "X   2   1   5\n",
      "Y  13  17  10\n",
      "Z   2  12   8\n",
      "Element at row Y and column B:  17\n"
     ]
    }
   ],
   "source": [
    "# 2. Create a Pandas DataFrame with columns 'A', 'B', 'C' and index 'X', 'Y', 'Z'. \n",
    "# Fill the DataFrame with random integers and access the element at row 'Y' and column 'B'.\n",
    "df2 = pd.DataFrame(np.random.randint(1, 21, size=(3,3)),columns= ['A', 'B', 'C'], index=[\"X\", \"Y\", \"Z\"])\n",
    "print(\"DataFrame: \\n\")\n",
    "print(df2)\n",
    "\n",
    "element = df2.at[\"Y\", \"B\"]\n",
    "print(\"Element at row Y and column B: \",element)"
   ]
  },
  {
   "cell_type": "code",
   "execution_count": 21,
   "id": "92cbf664",
   "metadata": {},
   "outputs": [
    {
     "name": "stdout",
     "output_type": "stream",
     "text": [
      "Original DataFrame: \n",
      "     A   B   C\n",
      "0  14   8   4\n",
      "1   4  18   6\n",
      "2  19  14   9\n",
      "3  13   8   9\n",
      "4  14   7  10\n",
      "DataFrame With 'D' Column Addded: \n",
      "     A   B   C    D\n",
      "0  14   8   4  112\n",
      "1   4  18   6   72\n",
      "2  19  14   9  266\n",
      "3  13   8   9  104\n",
      "4  14   7  10   98\n"
     ]
    }
   ],
   "source": [
    "### Assignment 2: DataFrame Operations\n",
    "\n",
    "# 1. Create a Pandas DataFrame with 3 columns and 5 rows filled with random integers. \n",
    "# Add a new column that is the product of the first two columns.\n",
    "\n",
    "df3= pd.DataFrame(np.random.randint(1,21, (5,3)), columns= [\"A\", \"B\", \"C\"])\n",
    "print(\"Original DataFrame: \\n\", df3)\n",
    "\n",
    "df3[\"D\"] = df3[\"A\"] * df3[\"B\"] \n",
    "print(\"DataFrame With 'D' Column Addded: \\n\",df3)"
   ]
  },
  {
   "cell_type": "code",
   "execution_count": null,
   "id": "4795d501",
   "metadata": {},
   "outputs": [
    {
     "name": "stdout",
     "output_type": "stream",
     "text": [
      "Origianl DataFrame: \n",
      "     A   B   C\n",
      "0   9   7   5\n",
      "1  18   1  17\n",
      "2  11  16   4\n",
      "3  15   3   6\n",
      "Sum Of Rows: \n",
      " 0    21\n",
      "1    36\n",
      "2    31\n",
      "3    24\n",
      "dtype: int64\n",
      "Column Sum: \n",
      " A    53\n",
      "B    27\n",
      "C    32\n",
      "dtype: int64\n"
     ]
    }
   ],
   "source": [
    "# 2. Create a Pandas DataFrame with 3 columns and 4 rows filled with random integers. \n",
    "\n",
    "df4 = pd.DataFrame(np.random.randint(1,21, (4,3)), columns= [\"A\", \"B\", \"C\"])\n",
    "print(\"Origianl DataFrame: \\n\",df4)\n",
    "\n",
    "# Compute the row-wise and column-wise sum.\n",
    "row_Sum = df4.sum(axis=1)\n",
    "print(\"Sum Of Rows: \\n\", row_Sum)\n",
    "\n",
    "col_sum = df4.sum(axis=0)\n",
    "print(\"Column Sum: \\n\", col_sum)\n"
   ]
  },
  {
   "cell_type": "code",
   "execution_count": null,
   "id": "c75718d1",
   "metadata": {},
   "outputs": [
    {
     "name": "stdout",
     "output_type": "stream",
     "text": [
      "Original DataFrame: \n",
      "     A   B   C\n",
      "0  13  17  18\n",
      "1   5  12  15\n",
      "2   6   2  10\n",
      "3   3   6  11\n",
      "4   7   2  20\n",
      "DatFrame when NAN introduced: \n",
      "      A     B     C\n",
      "0  NaN  17.0  18.0\n",
      "1  5.0   NaN  15.0\n",
      "2  6.0   2.0   NaN\n",
      "3  3.0   6.0  11.0\n",
      "4  7.0   2.0  20.0\n",
      "DataFrame NAN values Filled: \n",
      "       A      B     C\n",
      "0  5.25  17.00  18.0\n",
      "1  5.00   6.75  15.0\n",
      "2  6.00   2.00  16.0\n",
      "3  3.00   6.00  11.0\n",
      "4  7.00   2.00  20.0\n"
     ]
    }
   ],
   "source": [
    "### Assignment 3: Data Cleaning\n",
    "\n",
    "# 1. Create a Pandas DataFrame with 3 columns and 5 rows filled with random integers. \n",
    "df5 = pd.DataFrame(np.random.randint(1,21,(5,3)), columns= [\"A\", \"B\", \"C\"])\n",
    "print(\"Original DataFrame: \\n\", df5)\n",
    "\n",
    "# Introduce some NaN values. \n",
    "df5.iloc[0,0] = np.nan\n",
    "df5.iloc[1,1] = np.nan\n",
    "df5.iloc[2,2] = np.nan\n",
    "print(\"DatFrame when NAN introduced: \\n\", df5)\n",
    "\n",
    "\n",
    "# Fill the NaN values with the mean of the respective columns.\n",
    "df5.fillna(df5.mean(), inplace= True)\n",
    "print(\"DataFrame NAN values Filled: \\n\",df5)\n"
   ]
  },
  {
   "cell_type": "code",
   "execution_count": 50,
   "id": "270ae896",
   "metadata": {},
   "outputs": [
    {
     "name": "stdout",
     "output_type": "stream",
     "text": [
      "Original DataFrame: \n",
      "     A   B   C   D\n",
      "0  14  16  11  15\n",
      "1  11  12   1  16\n",
      "2  14  15  13  14\n",
      "3   1   2  19  17\n",
      "4  19  18  18   6\n",
      "5   7  12  17   2\n",
      "DataFrame With Nan: \n",
      "     A     B     C   D\n",
      "0  14  16.0   NaN  15\n",
      "1  11  12.0   1.0  16\n",
      "2  14  15.0  13.0  14\n",
      "3   1   NaN  19.0  17\n",
      "4  19  18.0  18.0   6\n",
      "5   7  12.0  17.0   2\n",
      "DataFrame When NAN Rows Dropped: \n",
      "     A     B     C   D\n",
      "1  11  12.0   1.0  16\n",
      "2  14  15.0  13.0  14\n",
      "4  19  18.0  18.0   6\n",
      "5   7  12.0  17.0   2\n"
     ]
    }
   ],
   "source": [
    "# 2. Create a Pandas DataFrame with 4 columns and 6 rows filled with random integers. \n",
    "\n",
    "df6 = pd.DataFrame(np.random.randint(1,21,(6,4)), columns= [\"A\", \"B\", \"C\", \"D\"])\n",
    "print(\"Original DataFrame: \\n\", df6)\n",
    "\n",
    "# Introduce some NaN values. \n",
    "df6.iloc[0,2] = np.nan\n",
    "df6.iloc[3,1] = np.nan\n",
    "print(\"DataFrame With Nan: \\n\",df6)\n",
    "\n",
    "# Drop the rows with any NaN values.\n",
    "df6.dropna(inplace=True)\n",
    "print(\"DataFrame When NAN Rows Dropped: \\n\",df6)"
   ]
  },
  {
   "cell_type": "code",
   "execution_count": 17,
   "id": "09b903c0",
   "metadata": {},
   "outputs": [
    {
     "name": "stdout",
     "output_type": "stream",
     "text": [
      "  Category  Value\n",
      "0        C     15\n",
      "1        B      8\n",
      "2        C      9\n",
      "3        B     15\n",
      "4        A      2\n",
      "5        A     17\n",
      "6        A     11\n",
      "7        B     19\n",
      "8        A     12\n",
      "9        B     20\n",
      "          sum  mean\n",
      "Category           \n",
      "A          42  10.5\n",
      "B          62  15.5\n",
      "C          24  12.0\n"
     ]
    }
   ],
   "source": [
    "### Assignment 4: Data Aggregation\n",
    "\n",
    "# 1. Create a Pandas DataFrame with 2 columns: 'Category' and 'Value'. \n",
    "# Fill the 'Category' column with random categories ('A', 'B', 'C') and the 'Value' column with random integers. \n",
    "\n",
    "df7 = pd.DataFrame({\"Category\": np.random.choice([\"A\", \"B\", \"C\"], size= 10), \"Value\": np.random.randint(1, 21, size= 10)})\n",
    "print(df7)\n",
    "\n",
    "# Group the DataFrame by 'Category' and compute the sum and mean of 'Value' for each category.\n",
    "grouped_df = df7.groupby(\"Category\")[\"Value\"].agg([\"sum\", \"mean\"])\n",
    "print(grouped_df)"
   ]
  },
  {
   "cell_type": "code",
   "execution_count": null,
   "id": "4cfe138d",
   "metadata": {},
   "outputs": [
    {
     "name": "stdout",
     "output_type": "stream",
     "text": [
      "    Product Category  Sales\n",
      "0  Product2        C     63\n",
      "1  product1        B     77\n",
      "2  product1        B     28\n",
      "3  Product2        A     54\n",
      "4  Product3        A     43\n",
      "5  product1        C     69\n",
      "6  product1        C     45\n",
      "7  Product2        C     88\n",
      "8  product1        A     60\n",
      "9  Product3        C     32\n",
      "Category\n",
      "A    157\n",
      "B    105\n",
      "C    297\n",
      "Name: Sales, dtype: int32\n",
      "Category\n",
      "A    157\n",
      "B    105\n",
      "C    297\n",
      "Name: Sales, dtype: int32\n"
     ]
    }
   ],
   "source": [
    "# 2. Create a Pandas DataFrame with 3 columns: 'Product', 'Category', and 'Sales'. \n",
    "# Fill the DataFrame with random data.\n",
    "df8 = pd.DataFrame({\"Product\": np.random.choice([\"product1\", \"Product2\", \"Product3\"], size= 10), \"Category\": np.random.choice([\"A\", \"B\", \"C\"], size=10), \"Sales\": np.random.randint(1,100, size= 10)})\n",
    "print(df8)\n",
    "\n",
    "#  Group the DataFrame by 'Category' and compute the total sales for each category.\n",
    "g_df= df8.groupby(\"Category\")[\"Sales\"].agg(\"sum\")\n",
    "# print(df8.groupby(\"Category\")[\"Sales\"].sum())\n",
    "print(g_df)"
   ]
  },
  {
   "cell_type": "code",
   "execution_count": 33,
   "id": "e8677803",
   "metadata": {},
   "outputs": [
    {
     "name": "stdout",
     "output_type": "stream",
     "text": [
      "DataFrame 1: \n",
      "   Key  value1\n",
      "0   A      35\n",
      "1   B      88\n",
      "2   C      94\n",
      "3   D      56\n",
      "DataFrame 2: \n",
      "   Key  value2\n",
      "0   A       9\n",
      "1   B      50\n",
      "2   C      73\n",
      "3   D      44\n",
      "Merged DataFrame: \n",
      "   Key  value1  value2\n",
      "0   A      35       9\n",
      "1   B      88      50\n",
      "2   C      94      73\n",
      "3   D      56      44\n"
     ]
    }
   ],
   "source": [
    "### Assignment 5: Merging DataFrames\n",
    "\n",
    "# 1. Create two Pandas DataFrames with a common column. Merge the DataFrames using the common column.\n",
    "df9 = pd.DataFrame({\"Key\": [\"A\", \"B\", \"C\", \"D\"], \"value1\": np.random.randint(1, 100, size=4)})\n",
    "print(\"DataFrame 1: \\n\", df9)\n",
    "df10 = pd.DataFrame({\"Key\": [\"A\", \"B\", \"C\", \"D\"], \"value2\": np.random.randint(1, 100, size=4)})\n",
    "print(\"DataFrame 2: \\n\", df10)\n",
    "\n",
    "merge_df = pd.merge(df9, df10, on= \"Key\")\n",
    "print(\"Merged DataFrame: \\n\",merge_df)\n",
    "\n"
   ]
  },
  {
   "cell_type": "code",
   "execution_count": null,
   "id": "43794b82",
   "metadata": {},
   "outputs": [
    {
     "name": "stdout",
     "output_type": "stream",
     "text": [
      "1st DataFrame: \n",
      "     A    B\n",
      "0  30  100\n",
      "1  44   57\n",
      "2  67   75\n",
      "3  19   15\n",
      "4  21    5\n",
      "2nd DataFrame: \n",
      "     C   D\n",
      "0  69  86\n",
      "1  22  34\n",
      "2  28  67\n",
      "3  19  62\n",
      "4  45  27\n",
      "Concatenate DataFrame(Rows): \n",
      "       A      B     C     D\n",
      "0  30.0  100.0   NaN   NaN\n",
      "1  44.0   57.0   NaN   NaN\n",
      "2  67.0   75.0   NaN   NaN\n",
      "3  19.0   15.0   NaN   NaN\n",
      "4  21.0    5.0   NaN   NaN\n",
      "0   NaN    NaN  69.0  86.0\n",
      "1   NaN    NaN  22.0  34.0\n",
      "2   NaN    NaN  28.0  67.0\n",
      "3   NaN    NaN  19.0  62.0\n",
      "4   NaN    NaN  45.0  27.0\n",
      "Concatenate DataFrame(Columns): \n",
      "     A    B   C   D\n",
      "0  30  100  69  86\n",
      "1  44   57  22  34\n",
      "2  67   75  28  67\n",
      "3  19   15  19  62\n",
      "4  21    5  45  27\n"
     ]
    }
   ],
   "source": [
    "# 2. Create two Pandas DataFrames with different columns. \n",
    "import numpy as np\n",
    "import pandas as pd\n",
    "df11 = pd.DataFrame({\"A\": np.random.randint(1,101, size= 5), \"B\": np.random.randint(1,101, size= 5)})\n",
    "print(\"1st DataFrame: \\n\",df11)\n",
    "\n",
    "df12 = pd.DataFrame({\"C\": np.random.randint(1,101, size= 5), \"D\": np.random.randint(1,101, size= 5)})\n",
    "print(\"2nd DataFrame: \\n\", df12)\n",
    "\n",
    "# Concatenate the DataFrames along the rows and along the columns.\n",
    "concatenate_row = pd.concat([df11, df12], axis= 0)\n",
    "print(\"Concatenate DataFrame(Rows): \\n\", concatenate_row)\n",
    "\n",
    "concatenate_col = pd.concat([df11, df12], axis= 1)\n",
    "print(\"Concatenate DataFrame(Columns): \\n\", concatenate_col)\n"
   ]
  },
  {
   "cell_type": "code",
   "execution_count": 8,
   "id": "72141197",
   "metadata": {},
   "outputs": [
    {
     "name": "stdout",
     "output_type": "stream",
     "text": [
      "            Data\n",
      "Date            \n",
      "2025-01-01    20\n",
      "2025-01-02    85\n",
      "2025-01-03    41\n",
      "2025-01-04    43\n",
      "2025-01-05    50\n",
      "...          ...\n",
      "2025-12-27    83\n",
      "2025-12-28    18\n",
      "2025-12-29    62\n",
      "2025-12-30    11\n",
      "2025-12-31    52\n",
      "\n",
      "[365 rows x 1 columns]\n",
      "                 Data\n",
      "Date                 \n",
      "2025-01-31  54.645161\n",
      "2025-02-28  53.678571\n",
      "2025-03-31  58.483871\n",
      "2025-04-30  47.466667\n",
      "2025-05-31  46.258065\n",
      "2025-06-30  40.133333\n",
      "2025-07-31  48.645161\n",
      "2025-08-31  54.741935\n",
      "2025-09-30  58.566667\n",
      "2025-10-31  45.838710\n",
      "2025-11-30  58.566667\n",
      "2025-12-31  43.258065\n"
     ]
    },
    {
     "name": "stderr",
     "output_type": "stream",
     "text": [
      "C:\\Users\\hp\\AppData\\Local\\Temp\\ipykernel_13928\\163393941.py:12: FutureWarning: 'M' is deprecated and will be removed in a future version, please use 'ME' instead.\n",
      "  Mean_df = df13.resample(\"M\").mean()\n"
     ]
    }
   ],
   "source": [
    "### Assignment 6: Time Series Analysis\n",
    "import pandas as pd\n",
    "import numpy as np\n",
    "# 1. Create a Pandas DataFrame with a datetime index and one column filled with random integers. \n",
    "datetime_DF = pd.date_range(start=\"2025-01-01\", end=\"2025-12-31\", freq=\"D\")\n",
    "df13 = pd.DataFrame(datetime_DF, columns=[\"Date\"])\n",
    "df13[\"Data\"] = np.random.randint(1,101, size=(len(datetime_DF)))\n",
    "df13.set_index(\"Date\", inplace=True)\n",
    "print(df13)\n",
    "\n",
    "# Resample the DataFrame to compute the monthly mean of the values.\n",
    "Mean_df = df13.resample(\"M\").mean()\n",
    "print(Mean_df)\n"
   ]
  },
  {
   "cell_type": "code",
   "execution_count": 13,
   "id": "fdb867f6",
   "metadata": {},
   "outputs": [
    {
     "name": "stdout",
     "output_type": "stream",
     "text": [
      "Original DataFrame: \n",
      "             Data\n",
      "Date            \n",
      "2021-01-01    90\n",
      "2021-01-02    78\n",
      "2021-01-03    56\n",
      "2021-01-04    18\n",
      "2021-01-05    78\n",
      "...          ...\n",
      "2021-12-27    55\n",
      "2021-12-28    30\n",
      "2021-12-29    54\n",
      "2021-12-30    49\n",
      "2021-12-31    58\n",
      "\n",
      "[365 rows x 1 columns]\n",
      "                 Data\n",
      "Date                 \n",
      "2021-01-01        NaN\n",
      "2021-01-02        NaN\n",
      "2021-01-03        NaN\n",
      "2021-01-04        NaN\n",
      "2021-01-05        NaN\n",
      "...               ...\n",
      "2021-12-27  37.428571\n",
      "2021-12-28  37.000000\n",
      "2021-12-29  35.857143\n",
      "2021-12-30  36.714286\n",
      "2021-12-31  43.571429\n",
      "\n",
      "[365 rows x 1 columns]\n"
     ]
    }
   ],
   "source": [
    "# 2. Create a Pandas DataFrame with a datetime index ranging from '2021-01-01' to '2021-12-31' and one column filled with random integers. \n",
    "\n",
    "datetime_DF1 = pd.date_range(start=\"2021-01-01\", end=\"2021-12-31\", freq=\"D\")\n",
    "df14 = pd.DataFrame(datetime_DF1, columns=[\"Date\"])\n",
    "df14[\"Data\"] = np.random.randint(1,101, size=(len(datetime_DF1)))\n",
    "df14.set_index(\"Date\", inplace=True)\n",
    "print(\"Original DataFrame: \\n\", df14)\n",
    "\n",
    "# Compute the rolling mean with a window of 7 days.\n",
    "rolling_mean = df14.rolling(window=7).mean()\n",
    "print(rolling_mean)\n"
   ]
  },
  {
   "cell_type": "code",
   "execution_count": null,
   "id": "4260b7b8",
   "metadata": {},
   "outputs": [],
   "source": [
    "## Assignment 7: MultiIndex DataFrame\n",
    "\n",
    "# 1. Create a Pandas DataFrame with a MultiIndex (hierarchical index). \n",
    "# Perform some basic indexing and slicing operations on the MultiIndex DataFrame.\n",
    "\n",
    "\n",
    "\n"
   ]
  },
  {
   "cell_type": "code",
   "execution_count": null,
   "id": "eeb3fe81",
   "metadata": {},
   "outputs": [],
   "source": [
    "# 2. Create a Pandas DataFrame with MultiIndex consisting of 'Category' and 'SubCategory'. Fill the DataFrame with random data and compute the sum of values for each 'Category' and 'SubCategory'.\n"
   ]
  },
  {
   "cell_type": "code",
   "execution_count": null,
   "id": "20d98077",
   "metadata": {},
   "outputs": [],
   "source": [
    "### Assignment 8: Pivot Tables\n",
    "\n",
    "# 1. Create a Pandas DataFrame with columns 'Date', 'Category', and 'Value'. Create a pivot table to compute the sum of 'Value' for each 'Category' by 'Date'.\n",
    "\n",
    "\n",
    "\n"
   ]
  },
  {
   "cell_type": "code",
   "execution_count": null,
   "id": "a692c0a6",
   "metadata": {},
   "outputs": [],
   "source": [
    "# 2. Create a Pandas DataFrame with columns 'Year', 'Quarter', and 'Revenue'. Create a pivot table to compute the mean 'Revenue' for each 'Quarter' by 'Year'.\n"
   ]
  },
  {
   "cell_type": "code",
   "execution_count": null,
   "id": "46ffe159",
   "metadata": {},
   "outputs": [],
   "source": [
    "### Assignment 9: Applying Functions\n",
    "\n",
    "# 1. Create a Pandas DataFrame with 3 columns and 5 rows filled with random integers. Apply a function that doubles the values of the DataFrame.\n",
    "# 2. Create a Pandas DataFrame with 3 columns and 6 rows filled with random integers. Apply a lambda function to create a new column that is the sum of the existing columns.\n"
   ]
  },
  {
   "cell_type": "code",
   "execution_count": null,
   "id": "ec68b2cc",
   "metadata": {},
   "outputs": [],
   "source": []
  },
  {
   "cell_type": "code",
   "execution_count": null,
   "id": "b43f7bf5",
   "metadata": {},
   "outputs": [],
   "source": [
    "\n",
    "### Assignment 10: Working with Text Data\n",
    "\n",
    "# 1. Create a Pandas Series with 5 random text strings. Convert all the strings to uppercase.\n",
    "# 2. Create a Pandas Series with 5 random text strings. Extract the first three characters of each string.\n"
   ]
  }
 ],
 "metadata": {
  "kernelspec": {
   "display_name": "Python 3",
   "language": "python",
   "name": "python3"
  },
  "language_info": {
   "codemirror_mode": {
    "name": "ipython",
    "version": 3
   },
   "file_extension": ".py",
   "mimetype": "text/x-python",
   "name": "python",
   "nbconvert_exporter": "python",
   "pygments_lexer": "ipython3",
   "version": "3.10.0"
  }
 },
 "nbformat": 4,
 "nbformat_minor": 5
}
