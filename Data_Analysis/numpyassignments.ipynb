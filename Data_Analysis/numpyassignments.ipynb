{
 "cells": [
  {
   "cell_type": "markdown",
   "metadata": {},
   "source": [
    "# Module: NumPy Assignments\n",
    "## Lesson: NumPy\n",
    "### Assignment 1: Array Creation and Manipulation\n",
    "\n",
    "1. Create a NumPy array of shape (5, 5) filled with random integers between 1 and 20. Replace all the elements in the third column with 1.\n",
    "2. Create a NumPy array of shape (4, 4) with values from 1 to 16. Replace the diagonal elements with 0.\n",
    "\n",
    "### Assignment 2: Array Indexing and Slicing\n",
    "\n",
    "1. Create a NumPy array of shape (6, 6) with values from 1 to 36. Extract the sub-array consisting of the 3rd to 5th rows and 2nd to 4th columns.\n",
    "2. Create a NumPy array of shape (5, 5) with random integers. Extract the elements on the border.\n",
    "\n",
    "### Assignment 3: Array Operations\n",
    "\n",
    "1. Create two NumPy arrays of shape (3, 4) filled with random integers. Perform element-wise addition, subtraction, multiplication, and division.\n",
    "2. Create a NumPy array of shape (4, 4) with values from 1 to 16. Compute the row-wise and column-wise sum.\n",
    "\n",
    "### Assignment 4: Statistical Operations\n",
    "\n",
    "1. Create a NumPy array of shape (5, 5) filled with random integers. Compute the mean, median, standard deviation, and variance of the array.\n",
    "2. Create a NumPy array of shape (3, 3) with values from 1 to 9. Normalize the array (i.e., scale the values to have a mean of 0 and a standard deviation of 1).\n",
    "\n",
    "### Assignment 5: Broadcasting\n",
    "\n",
    "1. Create a NumPy array of shape (3, 3) filled with random integers. Add a 1D array of shape (3,) to each row of the 2D array using broadcasting.\n",
    "2. Create a NumPy array of shape (4, 4) filled with random integers. Subtract a 1D array of shape (4,) from each column of the 2D array using broadcasting.\n",
    "\n",
    "### Assignment 6: Linear Algebra\n",
    "\n",
    "1. Create a NumPy array of shape (3, 3) representing a matrix. Compute its determinant, inverse, and eigenvalues.\n",
    "2. Create two NumPy arrays of shape (2, 3) and (3, 2). Perform matrix multiplication on these arrays.\n",
    "\n",
    "### Assignment 7: Advanced Array Manipulation\n",
    "\n",
    "1. Create a NumPy array of shape (3, 3) with values from 1 to 9. Reshape the array to shape (1, 9) and then to shape (9, 1).\n",
    "2. Create a NumPy array of shape (5, 5) filled with random integers. Flatten the array and then reshape it back to (5, 5).\n",
    "\n",
    "### Assignment 8: Fancy Indexing and Boolean Indexing\n",
    "\n",
    "1. Create a NumPy array of shape (5, 5) filled with random integers. Use fancy indexing to extract the elements at the corners of the array.\n",
    "2. Create a NumPy array of shape (4, 4) filled with random integers. Use boolean indexing to set all elements greater than 10 to 10.\n",
    "\n",
    "### Assignment 9: Structured Arrays\n",
    "\n",
    "1. Create a structured array with fields 'name' (string), 'age' (integer), and 'weight' (float). Add some data and sort the array by age.\n",
    "2. Create a structured array with fields 'x' and 'y' (both integers). Add some data and compute the Euclidean distance between each pair of points.\n",
    "\n",
    "### Assignment 10: Masked Arrays\n",
    "\n",
    "1. Create a masked array of shape (4, 4) with random integers and mask the elements greater than 10. Compute the sum of the unmasked elements.\n",
    "2. Create a masked array of shape (3, 3) with random integers and mask the diagonal elements. Replace the masked elements with the mean of the unmasked elements."
   ]
  },
  {
   "cell_type": "code",
   "execution_count": 1,
   "metadata": {},
   "outputs": [],
   "source": [
    "# !pip install numpy\n",
    "import numpy as np"
   ]
  },
  {
   "cell_type": "code",
   "execution_count": 2,
   "id": "0221b35f",
   "metadata": {},
   "outputs": [
    {
     "name": "stdout",
     "output_type": "stream",
     "text": [
      "[[18 19 10 12 18]\n",
      " [15 17  8  3  3]\n",
      " [10  2  5  9  7]\n",
      " [16  8 15 19 10]\n",
      " [ 4 10  2  2  1]]\n",
      "\n",
      "\n",
      "[[18 19 10 12 18]\n",
      " [15 17  8  3  3]\n",
      " [ 1  1  1  1  1]\n",
      " [16  8 15 19 10]\n",
      " [ 4 10  2  2  1]]\n"
     ]
    }
   ],
   "source": [
    "# Assignment 1: Array Creation and Manipulation\n",
    "\n",
    "# 1. Create a NumPy array of shape (5, 5) filled with random integers between 1 and 20. \n",
    "\n",
    "import numpy as np\n",
    "arr1= np.random.randint(1,21, size=(5,5))\n",
    "print(arr1)\n",
    "print(\"\\n\")\n",
    "\n",
    "# Replace all the elements in the third column with 1.\n",
    "arr1[2:3] = 1\n",
    "print(arr1)\n",
    "\n"
   ]
  },
  {
   "cell_type": "code",
   "execution_count": 3,
   "id": "d4a53970",
   "metadata": {},
   "outputs": [
    {
     "name": "stdout",
     "output_type": "stream",
     "text": [
      "[[ 2  3 10  2]\n",
      " [ 5 15  7  5]\n",
      " [ 9 12  9 11]\n",
      " [15  5 10  4]]\n",
      "\n",
      "\n",
      "[[ 0  3 10  2]\n",
      " [ 5  0  7  5]\n",
      " [ 9 12  0 11]\n",
      " [15  5 10  0]]\n"
     ]
    }
   ],
   "source": [
    "# 2. Create a NumPy array of shape (4, 4) with values from 1 to 16. Replace the diagonal elements with 0.\n",
    "arr2 = np.random.randint(1,17, size = (4,4))\n",
    "print(arr2)\n",
    "print(\"\\n\")\n",
    "\n",
    "np.fill_diagonal(arr2, 0)\n",
    "print(arr2)"
   ]
  },
  {
   "cell_type": "code",
   "execution_count": 4,
   "id": "eac4f934",
   "metadata": {},
   "outputs": [
    {
     "name": "stdout",
     "output_type": "stream",
     "text": [
      "[[26 11 36 24 20 14]\n",
      " [26  9 21 24 23 19]\n",
      " [11 14 11 18 31 13]\n",
      " [19 16  5 32  6 31]\n",
      " [33  4 14 15  8 36]\n",
      " [ 5 10 31 17 34  5]]\n",
      "\n",
      "\n",
      "[[14 11 18]\n",
      " [16  5 32]\n",
      " [ 4 14 15]]\n"
     ]
    }
   ],
   "source": [
    "### Assignment 2: Array Indexing and Slicing\n",
    "\n",
    "# 1. Create a NumPy array of shape (6, 6) with values from 1 to 36. \n",
    "# Extract the sub-array consisting of the 3rd to 5th rows and 2nd to 4th columns.\n",
    "\n",
    "arr3 = np.random.randint(1,37, size=(6,6))\n",
    "\n",
    "print(arr3)\n",
    "\n",
    "print(\"\\n\")\n",
    "\n",
    "sub_arr = arr3[2:5, 1:4]\n",
    "\n",
    "print(sub_arr)"
   ]
  },
  {
   "cell_type": "code",
   "execution_count": 5,
   "id": "45702627",
   "metadata": {},
   "outputs": [
    {
     "name": "stdout",
     "output_type": "stream",
     "text": [
      "[[ 2 31 28 35 16]\n",
      " [ 8 15 24  5 21]\n",
      " [24 20 18 24 28]\n",
      " [10 29 18 12 24]\n",
      " [ 7 26  5 33 32]]\n",
      "\n",
      "\n",
      "[ 2 31 28 35 16  7 26  5 33 32  8 24 10 21 28 24]\n"
     ]
    }
   ],
   "source": [
    "# 2. Create a NumPy array of shape (5, 5) with random integers. Extract the elements on the border.\n",
    "arr4 = np.random.randint(1,37, size=(5,5))\n",
    "print(arr4)\n",
    "print(\"\\n\")\n",
    "border_elemet = np.concatenate((arr4[0], arr4[-1], arr4[1:-1, 0], arr4[1:-1, -1]))\n",
    "print(border_elemet)"
   ]
  },
  {
   "cell_type": "code",
   "execution_count": 6,
   "id": "e069f332",
   "metadata": {},
   "outputs": [
    {
     "name": "stdout",
     "output_type": "stream",
     "text": [
      "[[ 1  8 10  6]\n",
      " [ 7  9  3  1]\n",
      " [ 1  1  3  3]]\n",
      "[[ 7  2  3  6]\n",
      " [ 7  9  9  4]\n",
      " [ 6  6  3 10]]\n",
      "ADDITION\n",
      "[[ 8 10 13 12]\n",
      " [14 18 12  5]\n",
      " [ 7  7  6 13]]\n",
      "SUBTRACT\n",
      "[[-6  6  7  0]\n",
      " [ 0  0 -6 -3]\n",
      " [-5 -5  0 -7]]\n",
      "MULTIPLY\n",
      "[[ 7 16 30 36]\n",
      " [49 81 27  4]\n",
      " [ 6  6  9 30]]\n",
      "DIVIDE\n",
      "[[0.14285714 4.         3.33333333 1.        ]\n",
      " [1.         1.         0.33333333 0.25      ]\n",
      " [0.16666667 0.16666667 1.         0.3       ]]\n"
     ]
    }
   ],
   "source": [
    "### Assignment 3: Array Operations\n",
    "\n",
    "# 1. Create two NumPy arrays of shape (3, 4) filled with random integers. \n",
    "# Perform element-wise addition, subtraction, multiplication, and division.\n",
    "arr5= np.random.randint(1,11, size=(3,4))\n",
    "arr6 = np.random.randint(1,11, size=(3,4))\n",
    "\n",
    "print(arr5)\n",
    "print(arr6)\n",
    "print(\"ADDITION\")\n",
    "print(np.add(arr5, arr6))\n",
    "print(\"SUBTRACT\")\n",
    "print(np.subtract(arr5, arr6))\n",
    "print(\"MULTIPLY\")\n",
    "print(np.multiply(arr5, arr6))\n",
    "print(\"DIVIDE\")\n",
    "print(np.divide(arr5, arr6))"
   ]
  },
  {
   "cell_type": "code",
   "execution_count": 7,
   "id": "d58d1b9a",
   "metadata": {},
   "outputs": [
    {
     "name": "stdout",
     "output_type": "stream",
     "text": [
      "Original Array: \n",
      "\n",
      "[[ 2  8 16  1]\n",
      " [ 9  7  7 14]\n",
      " [15  9 16 11]\n",
      " [11 15  2  1]]\n",
      "Row Wise Sum:  [27 37 51 29]\n",
      "Column Wise Sum:  [37 39 41 27]\n"
     ]
    }
   ],
   "source": [
    "# 2. Create a NumPy array of shape (4, 4) with values from 1 to 16. \n",
    "arr7 = np.random.randint(1,17, size=(4,4))\n",
    "print(\"Original Array: \\n\")\n",
    "print(arr7)\n",
    "\n",
    "# Compute the row-wise and column-wise sum.\n",
    "row_wise = np.sum(arr7, axis=1)\n",
    "print(\"Row Wise Sum: \", row_wise)\n",
    "column_wise = np.sum(arr7, axis= 0)\n",
    "print(\"Column Wise Sum: \", column_wise)"
   ]
  },
  {
   "cell_type": "code",
   "execution_count": 8,
   "id": "c02cfa83",
   "metadata": {},
   "outputs": [
    {
     "name": "stdout",
     "output_type": "stream",
     "text": [
      "Mean:  5.44\n",
      "Standard Deviation:  2.4992798962901297\n",
      "Variance:  6.246400000000001\n"
     ]
    }
   ],
   "source": [
    "## Assignment 4: Statistical Operations\n",
    "\n",
    "# 1. Create a NumPy array of shape (5, 5) filled with random integers. \n",
    "# Compute the mean, median, standard deviation, and variance of the array.\n",
    "\n",
    "arr8 = np.random.randint(1,11,size=(5,5))\n",
    "mean = np.mean(arr8)\n",
    "print(\"Mean: \",mean)\n",
    "\n",
    "sd = np.std(arr8)\n",
    "print(\"Standard Deviation: \",sd)\n",
    "\n",
    "variance = np.var(arr8)\n",
    "print(\"Variance: \", variance)\n",
    "\n"
   ]
  },
  {
   "cell_type": "code",
   "execution_count": 9,
   "id": "4f02c104",
   "metadata": {},
   "outputs": [
    {
     "name": "stdout",
     "output_type": "stream",
     "text": [
      "Original array: \n",
      "[[2 5 3]\n",
      " [4 5 3]\n",
      " [4 5 9]]\n",
      "Normalized data:  [[-1.29188448  0.29361011 -0.76338629]\n",
      " [-0.23488809  0.29361011 -0.76338629]\n",
      " [-0.23488809  0.29361011  2.4076029 ]]\n"
     ]
    }
   ],
   "source": [
    "# 2. Create a NumPy array of shape (3, 3) with values from 1 to 9. \n",
    "# Normalize the array (i.e., scale the values to have a mean of 0 and a standard deviation of 1).\n",
    "#normalization = arr- mean/ std_dev\n",
    "\n",
    "arr9 = np.random.randint(1,10,size=(3,3))\n",
    "print(\"Original array: \")\n",
    "print(arr9)\n",
    "\n",
    "\n",
    "mean = np.mean(arr9)\n",
    "std_dev = np.std(arr9)\n",
    "\n",
    "normalization = (arr9 - mean) / std_dev\n",
    "print(\"Normalized data: \", normalization)"
   ]
  },
  {
   "cell_type": "code",
   "execution_count": 10,
   "id": "a8459a30",
   "metadata": {},
   "outputs": [
    {
     "name": "stdout",
     "output_type": "stream",
     "text": [
      "Original array: \n",
      "\n",
      "[[4 8 9]\n",
      " [9 5 8]\n",
      " [9 3 1]]\n",
      "\n",
      "\n",
      "1 D array: \n",
      "\n",
      "[10 10 10]\n",
      "\n",
      "\n",
      "Resulting Array: \n",
      "\n",
      "[[14 18 19]\n",
      " [19 15 18]\n",
      " [19 13 11]]\n"
     ]
    }
   ],
   "source": [
    "### Assignment 5: Broadcasting\n",
    "\n",
    "# 1. Create a NumPy array of shape (3, 3) filled with random integers. \n",
    "# Add a 1D array of shape (3,) to each row of the 2D array using broadcasting.\n",
    "arr10 = np.random.randint(1, 11, size=(3,3))\n",
    "print(\"Original array: \\n\")\n",
    "print(arr10)\n",
    "\n",
    "print(\"\\n\")\n",
    "\n",
    "arr11 = np.array([10, 10, 10])\n",
    "print(\"1 D array: \\n\")\n",
    "print(arr11)\n",
    "\n",
    "print(\"\\n\")\n",
    "final = arr10 + arr11\n",
    "print(\"Resulting Array: \\n\")\n",
    "print(final)"
   ]
  },
  {
   "cell_type": "code",
   "execution_count": 11,
   "id": "8f3cfe56",
   "metadata": {},
   "outputs": [
    {
     "name": "stdout",
     "output_type": "stream",
     "text": [
      "Original Array: \n",
      "\n",
      "[[ 9  2  7  1]\n",
      " [ 8  7 10  6]\n",
      " [ 7 10  6  6]\n",
      " [ 1  5  6  4]]\n",
      "1D array: \n",
      "\n",
      "[ 7  6 10 10]\n",
      "Resulting Array: \n",
      "\n",
      "[[ 2 -4 -3 -9]\n",
      " [ 1  1  0 -4]\n",
      " [ 0  4 -4 -4]\n",
      " [-6 -1 -4 -6]]\n"
     ]
    }
   ],
   "source": [
    "# 2. Create a NumPy array of shape (4, 4) filled with random integers.\n",
    "#  Subtract a 1D array of shape (4,) from each column of the 2D array using broadcasting.\n",
    "arr12 = np.random.randint(1, 11, size=(4,4))\n",
    "print(\"Original Array: \\n\")\n",
    "print(arr12)\n",
    "\n",
    "arr13 = np.random.randint(1, 11, size=(4,))\n",
    "print(\"1D array: \\n\")\n",
    "print(arr13)\n",
    "\n",
    "sub = arr12 - arr13\n",
    "print(\"Resulting Array: \\n\")\n",
    "print(sub)\n"
   ]
  },
  {
   "cell_type": "code",
   "execution_count": 12,
   "id": "c2fc56eb",
   "metadata": {},
   "outputs": [
    {
     "name": "stdout",
     "output_type": "stream",
     "text": [
      "Original Array: \n",
      "\n",
      "[[1 9 5]\n",
      " [8 2 9]\n",
      " [2 6 8]]\n",
      "Determinant of the Array: \n",
      " -231.99999999999997\n",
      "\n",
      "\n",
      "Inverse of the Array: \n",
      " [[ 0.1637931   0.18103448 -0.30603448]\n",
      " [ 0.19827586  0.00862069 -0.13362069]\n",
      " [-0.18965517 -0.05172414  0.30172414]]\n",
      "\n",
      "\n",
      "Eigenvalues of the Array:\n",
      "  [16.74246504 -7.57239791  1.82993287]\n",
      "\n",
      "\n"
     ]
    }
   ],
   "source": [
    "### Assignment 6: Linear Algebra\n",
    "\n",
    "# 1. Create a NumPy array of shape (3, 3) representing a matrix. Compute its determinant, inverse, and eigenvalues.\n",
    "arr14 = np.random.randint(1, 11, size=(3,3))\n",
    "print(\"Original Array: \\n\")\n",
    "print(arr14)\n",
    "\n",
    "determinant = np.linalg.det(arr14)\n",
    "inverse = np.linalg.inv(arr14)\n",
    "eigenvalues = np.linalg.eigvals(arr14)\n",
    "\n",
    "print(\"Determinant of the Array: \\n\", determinant)\n",
    "print(\"\\n\")\n",
    "print(\"Inverse of the Array: \\n\", inverse)\n",
    "print(\"\\n\")\n",
    "print(\"Eigenvalues of the Array:\\n \", eigenvalues)\n",
    "print(\"\\n\")\n"
   ]
  },
  {
   "cell_type": "code",
   "execution_count": 13,
   "id": "2fd63cc1",
   "metadata": {},
   "outputs": [
    {
     "name": "stdout",
     "output_type": "stream",
     "text": [
      "Array 1: \n",
      "\n",
      "[[2 5 4]\n",
      " [6 4 7]]\n",
      "Array 2 : \n",
      "\n",
      "[[3 1]\n",
      " [4 9]\n",
      " [4 2]]\n",
      "Resulting Array: \n",
      "\n",
      "[[42 55]\n",
      " [62 56]]\n"
     ]
    }
   ],
   "source": [
    "# 2. Create two NumPy arrays of shape (2, 3) and (3, 2). Perform matrix multiplication on these arrays.\n",
    "arr15 = np.random.randint(1, 11, size=(2,3))\n",
    "arr16 = np.random.randint(1, 11, size=(3,2))\n",
    "\n",
    "print(\"Array 1: \\n\")\n",
    "print(arr15)\n",
    "\n",
    "print(\"Array 2 : \\n\")\n",
    "print(arr16)\n",
    "\n",
    "multi = arr15 @ arr16\n",
    "print('Resulting Array: \\n')\n",
    "print(multi)"
   ]
  },
  {
   "cell_type": "code",
   "execution_count": 14,
   "id": "9e065439",
   "metadata": {},
   "outputs": [
    {
     "name": "stdout",
     "output_type": "stream",
     "text": [
      "Original Array: \n",
      "\n",
      "[[1 7 1]\n",
      " [1 3 5]\n",
      " [2 1 1]]\n",
      "\n",
      "\n",
      "Reshaped Array 1: \n",
      "\n",
      "[[1 7 1 1 3 5 2 1 1]]\n",
      "\n",
      "\n",
      "Reshaped Array 2: \n",
      "\n",
      "[[1]\n",
      " [7]\n",
      " [1]\n",
      " [1]\n",
      " [3]\n",
      " [5]\n",
      " [2]\n",
      " [1]\n",
      " [1]]\n"
     ]
    }
   ],
   "source": [
    "### Assignment 7: Advanced Array Manipulation\n",
    "\n",
    "# 1. Create a NumPy array of shape (3, 3) with values from 1 to 9. \n",
    "# Reshape the array to shape (1, 9) and then to shape (9, 1).\n",
    "arr17 = np.random.randint(1, 10, size=(3,3))\n",
    "print(\"Original Array: \\n\")\n",
    "print(arr17)\n",
    "\n",
    "print(\"\\n\")\n",
    "\n",
    "reshape1 = arr17.reshape((1,9))\n",
    "print(\"Reshaped Array 1: \\n\")\n",
    "print(reshape1)\n",
    "\n",
    "print(\"\\n\")\n",
    "\n",
    "reshape2 = reshape1.reshape((9,1))\n",
    "print(\"Reshaped Array 2: \\n\")\n",
    "print(reshape2)\n"
   ]
  },
  {
   "cell_type": "code",
   "execution_count": 15,
   "id": "9d5cb8e3",
   "metadata": {},
   "outputs": [
    {
     "name": "stdout",
     "output_type": "stream",
     "text": [
      "Original Array: \n",
      "[[ 9  4  6 10  7]\n",
      " [ 5  9  2  3  6]\n",
      " [ 8  3  1  6  7]\n",
      " [ 9  4  7  3  5]\n",
      " [ 2  8  6  4  6]]\n",
      "Flattened Array: \n",
      "[ 9  4  6 10  7  5  9  2  3  6  8  3  1  6  7  9  4  7  3  5  2  8  6  4\n",
      "  6]\n",
      "Array reshaped in (5,5): \n",
      "[[ 9  4  6 10  7]\n",
      " [ 5  9  2  3  6]\n",
      " [ 8  3  1  6  7]\n",
      " [ 9  4  7  3  5]\n",
      " [ 2  8  6  4  6]]\n"
     ]
    }
   ],
   "source": [
    "# 2. Create a NumPy array of shape (5, 5) filled with random integers. \n",
    "# Flatten the array and then reshape it back to (5, 5).\n",
    "\n",
    "arr18 = np.random.randint(1, 11, size= (5,5))\n",
    "print(\"Original Array: \")\n",
    "print(arr18)\n",
    "\n",
    "flat_array = arr18.flatten()\n",
    "print(\"Flattened Array: \")\n",
    "print(flat_array)\n",
    "\n",
    "reshape = flat_array.reshape((5,5))\n",
    "print(\"Array reshaped in (5,5): \")\n",
    "print(reshape)"
   ]
  },
  {
   "cell_type": "code",
   "execution_count": 16,
   "id": "78c7d9f9",
   "metadata": {},
   "outputs": [
    {
     "name": "stdout",
     "output_type": "stream",
     "text": [
      "Original array: \n",
      "\n",
      "[[ 4  7 10  5 10]\n",
      " [ 6  4  3  4  2]\n",
      " [ 8  3  1  7 10]\n",
      " [ 1  5  5  8  7]\n",
      " [ 6  9  4  5  5]]\n",
      "[ 4 10  6  5]\n"
     ]
    }
   ],
   "source": [
    "## Assignment 8: Fancy Indexing and Boolean Indexing\n",
    "\n",
    "# 1. Create a NumPy array of shape (5, 5) filled with random integers. \n",
    "# Use fancy indexing to extract the elements at the corners of the array.\n",
    "arr19 = np.random.randint(1, 11, size=(5,5))\n",
    "print(\"Original array: \\n\")\n",
    "print(arr19)\n",
    "\n",
    "corner = arr19[ [0, 0, -1, -1],[0, -1, 0, -1]]\n",
    "print(corner)\n"
   ]
  },
  {
   "cell_type": "code",
   "execution_count": 17,
   "id": "c2b6ddbe",
   "metadata": {},
   "outputs": [
    {
     "name": "stdout",
     "output_type": "stream",
     "text": [
      "Original array: \n",
      "\n",
      "[[ 3  6  6 10]\n",
      " [ 4  6  3  8]\n",
      " [ 1  2  4  6]\n",
      " [ 2  1  4  6]]\n",
      "Modified Array: \n",
      "\n",
      "[[ 3  6  6 10]\n",
      " [ 4  6  3  8]\n",
      " [ 1  2  4  6]\n",
      " [ 2  1  4  6]]\n"
     ]
    }
   ],
   "source": [
    "# 2. Create a NumPy array of shape (4, 4) filled with random integers. \n",
    "# Use boolean indexing to set all elements greater than 10 to 10.\n",
    "arr = np.random.randint(1, 11, size=(4,4))\n",
    "print(\"Original array: \\n\")\n",
    "print(arr)\n",
    "\n",
    "arr[arr > 10] = 10\n",
    "print(\"Modified Array: \\n\")\n",
    "print(arr)"
   ]
  },
  {
   "cell_type": "code",
   "execution_count": 18,
   "id": "2a254838",
   "metadata": {},
   "outputs": [
    {
     "name": "stdout",
     "output_type": "stream",
     "text": [
      "Original Array: \n",
      "\n",
      "[('Sana', 2, 21.) ('Mansi', 7, 29.)]\n",
      "Sorted Array on the basis of age: \n",
      "\n",
      "[('Sana', 2, 21.) ('Mansi', 7, 29.)]\n"
     ]
    }
   ],
   "source": [
    "### Assignment 9: Structured Arrays\n",
    "\n",
    "# 1. Create a structured array with fields 'name' (string), 'age' (integer), and 'weight' (float). \n",
    "# Add some data and sort the array by age.\n",
    "import numpy as np\n",
    "dt= np.dtype([('name', (np.str_, 10)), ('age', np.int32), ('weight', np.float64)]) \n",
    "a = np.array([('Sana', 2, 21.0), ('Mansi', 7, 29.0)],  dtype=dt)\n",
    "print(\"Original Array: \\n\")\n",
    "print(a)\n",
    "\n",
    "sorted = np.sort(a, order='age')\n",
    "print(\"Sorted Array on the basis of age: \\n\")\n",
    "print(sorted)"
   ]
  },
  {
   "cell_type": "code",
   "execution_count": 19,
   "id": "5763d206",
   "metadata": {},
   "outputs": [
    {
     "ename": "UFuncTypeError",
     "evalue": "ufunc 'subtract' did not contain a loop with signature matching types (dtype([('x', '<i4'), ('y', '<i4')]), dtype([('x', '<i4'), ('y', '<i4')])) -> None",
     "output_type": "error",
     "traceback": [
      "\u001b[31m---------------------------------------------------------------------------\u001b[39m",
      "\u001b[31mUFuncTypeError\u001b[39m                            Traceback (most recent call last)",
      "\u001b[36mCell\u001b[39m\u001b[36m \u001b[39m\u001b[32mIn[19]\u001b[39m\u001b[32m, line 6\u001b[39m\n\u001b[32m      3\u001b[39m field_dt= np.dtype([(\u001b[33m'\u001b[39m\u001b[33mx\u001b[39m\u001b[33m'\u001b[39m, np.int32), (\u001b[33m'\u001b[39m\u001b[33my\u001b[39m\u001b[33m'\u001b[39m, np.int32)]) \n\u001b[32m      4\u001b[39m arr20 = np.array([( \u001b[32m2\u001b[39m, \u001b[32m3\u001b[39m), (\u001b[32m4\u001b[39m,\u001b[32m5\u001b[39m), (\u001b[32m8\u001b[39m,\u001b[32m9\u001b[39m)],  dtype=field_dt)\n\u001b[32m----> \u001b[39m\u001b[32m6\u001b[39m distances = np.linalg.norm(\u001b[43marr20\u001b[49m\u001b[43m[\u001b[49m\u001b[43m:\u001b[49m\u001b[43m,\u001b[49m\u001b[43m \u001b[49m\u001b[43mnp\u001b[49m\u001b[43m.\u001b[49m\u001b[43mnewaxis\u001b[49m\u001b[43m]\u001b[49m\u001b[43m \u001b[49m\u001b[43m-\u001b[49m\u001b[43m \u001b[49m\u001b[43marr20\u001b[49m, axis=\u001b[32m2\u001b[39m)\n\u001b[32m      7\u001b[39m \u001b[38;5;28mprint\u001b[39m(distances)\n",
      "\u001b[31mUFuncTypeError\u001b[39m: ufunc 'subtract' did not contain a loop with signature matching types (dtype([('x', '<i4'), ('y', '<i4')]), dtype([('x', '<i4'), ('y', '<i4')])) -> None"
     ]
    }
   ],
   "source": [
    "# 2. Create a structured array with fields 'x' and 'y' (both integers). \n",
    "# Add some data and compute the Euclidean distance between each pair of points.\n",
    "field_dt= np.dtype([('x', np.int32), ('y', np.int32)]) \n",
    "arr20 = np.array([( 2, 3), (4,5), (8,9)],  dtype=field_dt)\n",
    "\n",
    "distances = np.linalg.norm(arr20[:, np.newaxis] - arr20, axis=2)\n",
    "print(distances)\n"
   ]
  },
  {
   "cell_type": "code",
   "execution_count": null,
   "id": "ca8f8889",
   "metadata": {},
   "outputs": [
    {
     "name": "stdout",
     "output_type": "stream",
     "text": [
      "Original array: \n",
      "[[ 2 18 17 13]\n",
      " [20 13 18 18]\n",
      " [16 18 13  8]\n",
      " [ 4 18 17  5]]\n",
      "\n",
      "\n",
      "Masked Array: \n",
      "[[2 -- -- --]\n",
      " [-- -- -- --]\n",
      " [-- -- -- 8]\n",
      " [4 -- -- 5]]\n",
      "\n",
      "\n",
      "Sum Array of Masked Array: \n",
      "19\n"
     ]
    }
   ],
   "source": [
    "## Assignment 10: Masked Arrays\n",
    "import numpy.ma as ma\n",
    "\n",
    "# 1. Create a masked array of shape (4, 4) with random integers and mask the elements greater than 10. \n",
    "# Compute the sum of the unmasked elements.\n",
    "arr21 = np.random.randint(1, 21, size= (4,4))\n",
    "masked_array = ma.masked_greater(arr21, 10)\n",
    "\n",
    "print(\"Original array: \")\n",
    "print(arr21)\n",
    "print(\"\\n\")\n",
    "print(\"Masked Array: \")\n",
    "print(masked_array)\n",
    "print(\"\\n\")\n",
    "sum_array = masked_array.sum()\n",
    "print(\"Sum Array of Masked Array: \")\n",
    "print(sum_array)"
   ]
  },
  {
   "cell_type": "code",
   "execution_count": null,
   "id": "84769a01",
   "metadata": {},
   "outputs": [],
   "source": [
    "# 2. Create a masked array of shape (3, 3) with random integers and mask the diagonal elements. \n",
    "# Replace the masked elements with the mean of the unmasked elements.\n",
    "arr22 = np.random.randint(1, 21, size= (3,3))\n",
    "masked_array = ma.masked_greater(arr22, )"
   ]
  },
  {
   "cell_type": "code",
   "execution_count": null,
   "id": "f1cd812c",
   "metadata": {},
   "outputs": [],
   "source": []
  },
  {
   "cell_type": "code",
   "execution_count": null,
   "id": "eef39764",
   "metadata": {},
   "outputs": [],
   "source": []
  }
 ],
 "metadata": {
  "kernelspec": {
   "display_name": "Python 3",
   "language": "python",
   "name": "python3"
  },
  "language_info": {
   "codemirror_mode": {
    "name": "ipython",
    "version": 3
   },
   "file_extension": ".py",
   "mimetype": "text/x-python",
   "name": "python",
   "nbconvert_exporter": "python",
   "pygments_lexer": "ipython3",
   "version": "3.12.0"
  }
 },
 "nbformat": 4,
 "nbformat_minor": 5
}
