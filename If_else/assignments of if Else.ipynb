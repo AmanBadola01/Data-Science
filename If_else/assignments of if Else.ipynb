{
 "cells": [
  {
   "cell_type": "markdown",
   "metadata": {},
   "source": [
    "# Module 2: Control Flow Assignments\n",
    "## Lesson 2.1: Conditional Statements\n",
    "### Assignment 1: Simple if Statement\n",
    "\n",
    "Write a program that asks the user to input a number and prints whether the number is positive.\n",
    "\n",
    "### Assignment 2: if-else Statement\n",
    "\n",
    "Write a program that asks the user to input a number and prints whether the number is positive or negative.\n",
    "\n",
    "### Assignment 3: if-elif-else Statement\n",
    "\n",
    "Write a program that asks the user to input a number and prints whether the number is positive, negative, or zero.\n",
    "\n",
    "### Assignment 4: Nested if Statement\n",
    "\n",
    "Write a program that asks the user to input a number and prints whether the number is positive and even, positive and odd, or negative.\n",
    "\n",
    "## Lesson 2.2: Loops\n",
    "### Assignment 5: for Loop\n",
    "\n",
    "Write a program that prints all the numbers from 1 to 10 using a for loop.\n",
    "\n",
    "### Assignment 6: while Loop\n",
    "\n",
    "Write a program that prints all the numbers from 1 to 10 using a while loop.\n",
    "\n",
    "### Assignment 7: Nested Loops\n",
    "\n",
    "Write a program that prints a 5x5 grid of asterisks (*) using nested loops.\n",
    "\n",
    "### Assignment 8: break Statement\n",
    "\n",
    "Write a program that asks the user to input numbers until they input 0. The program should print the sum of all the input numbers.\n",
    "\n",
    "### Assignment 9: continue Statement\n",
    "\n",
    "Write a program that prints all the numbers from 1 to 10 except 5 using a for loop and continue statement.\n",
    "\n",
    "### Assignment 10: pass Statement\n",
    "\n",
    "Write a program that defines an empty function using the pass statement.\n",
    "\n",
    "### Assignment 11: Combining Loops and Conditionals\n",
    "\n",
    "Write a program that asks the user to input a number and prints all the even numbers from 1 to that number using a for loop.\n",
    "\n",
    "### Assignment 12: Factorial Calculation\n",
    "\n",
    "Write a program that calculates the factorial of a number input by the user using a while loop.\n",
    "\n",
    "### Assignment 13: Sum of Digits\n",
    "\n",
    "Write a program that calculates the sum of the digits of a number input by the user using a while loop.\n",
    "\n",
    "### Assignment 14: Prime Number Check\n",
    "\n",
    "Write a program that checks if a number input by the user is a prime number using a for loop.\n",
    "\n",
    "### Assignment 15: Fibonacci Sequence\n",
    "\n",
    "Write a program that prints the first n Fibonacci numbers, where n is input by the user.\n"
   ]
  },
  {
   "cell_type": "code",
   "execution_count": null,
   "id": "3a479515",
   "metadata": {},
   "outputs": [],
   "source": [
    "# ### Assignment 1: Simple if Statement\n",
    "\n",
    "# Write a program that asks the user to input a number and prints whether the number is positive.\n",
    "i = int(input(\"Enter any number: \"))\n",
    "if (i>0):\n",
    "    print(\"The number is Postive.\")"
   ]
  },
  {
   "cell_type": "code",
   "execution_count": null,
   "id": "53c23ed7",
   "metadata": {},
   "outputs": [],
   "source": [
    "### Assignment 2: if-else Statement\n",
    "\n",
    "# Write a program that asks the user to input a number and prints whether the number is positive or negative.\n",
    "i = int(input(\"Enter any number: \"))\n",
    "if (i>0):\n",
    "    print(\"The number is Postive.\")\n",
    "else:\n",
    "    print(\"The number is Negaitve.\")"
   ]
  },
  {
   "cell_type": "code",
   "execution_count": null,
   "id": "f910bcc6",
   "metadata": {},
   "outputs": [],
   "source": [
    "### Assignment 3: if-elif-else Statement\n",
    "\n",
    "# Write a program that asks the user to a number and prints whether the number is positive, negative, or zero.\n",
    "i = int(input(\"Enter any number: \"))\n",
    "if (i>0):\n",
    "    print(\"The number is Postive.\")\n",
    "\n",
    "elif (i == 0):\n",
    "    print(\"The number is Zero.\")\n",
    "else:\n",
    "    print(\"The number is Negaitve.\")\n"
   ]
  },
  {
   "cell_type": "code",
   "execution_count": null,
   "id": "c404754b",
   "metadata": {},
   "outputs": [],
   "source": [
    "### Assignment 4: Nested if Statement\n",
    "\n",
    "# Write a program that asks the user to input a number and prints whether the number is positive and even, positive and odd, or negative.\n",
    "i = int(input(\"Enter any number: \"))\n",
    "if (i>0) and (i % 2== 0):\n",
    "    print(\"The number is Postive and even.\")\n",
    "elif (i>0) and (i%2 != 0):\n",
    "    print(\"The number is Positive and Odd.\")\n",
    "elif i < 0:\n",
    "    print(\"The number is negaitve.\")\n"
   ]
  },
  {
   "cell_type": "code",
   "execution_count": null,
   "id": "f7bb3df5",
   "metadata": {},
   "outputs": [],
   "source": [
    "### Assignment 5: for Loop\n",
    "\n",
    "# Write a program that prints all the numbers from 1 to 10 using a for loop.\n",
    "for i in range(1,11):\n",
    "    print(i)\n",
    "    "
   ]
  },
  {
   "cell_type": "code",
   "execution_count": null,
   "id": "f3db7dc4",
   "metadata": {},
   "outputs": [],
   "source": [
    "### Assignment 6: while Loop\n",
    "\n",
    "# Write a program that prints all the numbers from 1 to 10 using a while loop.\n",
    "i =1\n",
    "while (i<=10):\n",
    "    print(i)\n",
    "    i+= 1\n",
    "\n"
   ]
  },
  {
   "cell_type": "code",
   "execution_count": null,
   "id": "0124b775",
   "metadata": {},
   "outputs": [],
   "source": [
    "### Assignment 7: Nested Loops\n",
    "\n",
    "# Write a program that prints a 5x5 grid of asterisks (*) using nested loops.\n",
    "for i in range(5):\n",
    "    for j in range(5):\n",
    "        print(\"*\", end= \" \")\n",
    "    print()\n"
   ]
  },
  {
   "cell_type": "code",
   "execution_count": null,
   "id": "53c8885f",
   "metadata": {},
   "outputs": [],
   "source": [
    "# ### Assignment 8: break Statement\n",
    "\n",
    "# Write a program that asks the user to input numbers until they input 0. The program should print the sum of all the input numbers.\n",
    "Sum = 0\n",
    "while True:\n",
    "    num = int(input(\"Enter a number:\"))\n",
    "    if num == 0:\n",
    "        break\n",
    "    Sum = Sum + num\n",
    "print(Sum)\n"
   ]
  },
  {
   "cell_type": "code",
   "execution_count": null,
   "id": "6af5f583",
   "metadata": {},
   "outputs": [],
   "source": [
    "### Assignment 9: continue Statement\n",
    "\n",
    "# Write a program that prints all the numbers from 1 to 10 except 5 using a for loop and continue statement.\n",
    "for i in range(1,11):\n",
    "    if i == 5:\n",
    "        continue\n",
    "    print(i)"
   ]
  },
  {
   "cell_type": "code",
   "execution_count": null,
   "id": "9a511d8c",
   "metadata": {},
   "outputs": [],
   "source": [
    "\n",
    "### Assignment 10: pass Statement\n",
    "\n",
    "# Write a program that defines an empty function using the pass statement.\n",
    "def empty_function():\n",
    "    pass\n",
    "\n",
    "empty_function()"
   ]
  },
  {
   "cell_type": "code",
   "execution_count": 7,
   "id": "6f71c383",
   "metadata": {},
   "outputs": [
    {
     "name": "stdout",
     "output_type": "stream",
     "text": [
      "Even number between 1 and 25\n",
      "2\n",
      "4\n",
      "6\n",
      "8\n",
      "10\n",
      "12\n",
      "14\n",
      "16\n",
      "18\n",
      "20\n",
      "22\n",
      "24\n"
     ]
    }
   ],
   "source": [
    "### Assignment 11: Combining Loops and Conditionals\n",
    "\n",
    "# Write a program that asks the user to input a number and prints all the even numbers from 1 to that number using a for loop.\n",
    "num = int(input(\"Enter last number to find even number: \"))\n",
    "print(f\"Even number between 1 and {num}\")\n",
    "for i in range(1, num+1):\n",
    "    if (i%2 == 0):\n",
    "        print(i)"
   ]
  },
  {
   "cell_type": "code",
   "execution_count": 9,
   "id": "26ac87ea",
   "metadata": {},
   "outputs": [
    {
     "name": "stdout",
     "output_type": "stream",
     "text": [
      "The factorial of the number 4 is 24.\n"
     ]
    }
   ],
   "source": [
    "### Assignment 12: Factorial Calculation\n",
    "\n",
    "# Write a program that calculates the factorial of a number input by the user using a while loop.\n",
    "num = int(input(\"Enter a number for factorial: \"))\n",
    "i = 1\n",
    "factorial = 1\n",
    "while i<= num:\n",
    "    factorial = factorial *i\n",
    "    i += 1\n",
    "print(f\"The factorial of the number {num} is {factorial}.\")"
   ]
  },
  {
   "cell_type": "code",
   "execution_count": null,
   "id": "05abda1e",
   "metadata": {},
   "outputs": [],
   "source": [
    "### Assignment 13: Sum of Digits\n",
    "\n",
    "# Write a program that calculates the sum of the digits of a number input by the user using a while loop.\n",
    "\n"
   ]
  },
  {
   "cell_type": "code",
   "execution_count": null,
   "id": "f93b109e",
   "metadata": {},
   "outputs": [],
   "source": [
    "### Assignment 14: Prime Number Check\n",
    "\n",
    "# Write a program that checks if a number input by the user is a prime number using a for loop.\n"
   ]
  },
  {
   "cell_type": "code",
   "execution_count": null,
   "id": "bc7a2c97",
   "metadata": {},
   "outputs": [],
   "source": [
    "### Assignment 15: Fibonacci Sequence\n",
    "\n",
    "# Write a program that prints the first n Fibonacci numbers, where n is input by the user."
   ]
  },
  {
   "cell_type": "code",
   "execution_count": null,
   "id": "e90fe2be",
   "metadata": {},
   "outputs": [
    {
     "name": "stdout",
     "output_type": "stream",
     "text": [
      "The sum is : 55\n"
     ]
    }
   ],
   "source": [
    "#Calcualte the sum of first n natural numbers\n",
    "\n",
    "# for i in range(n+1):\n",
    "#     Sum = Sum + i\n",
    "#     n -= 1\n",
    "n = 10\n",
    "Sum = 0\n",
    "\n",
    "count = 1\n",
    "while count <= n:\n",
    "    Sum = Sum + count\n",
    "    count += 1\n",
    "print(\"The sum is:\", Sum)"
   ]
  },
  {
   "cell_type": "code",
   "execution_count": null,
   "id": "2b9d9027",
   "metadata": {},
   "outputs": [],
   "source": [
    "#Prime numbers between 1 to 100\n",
    "for num in range(1,100000000000000000000000000000000000000000000):\n",
    "    if num >1:\n",
    "        for i in range(2,num):\n",
    "            if num%i == 0:\n",
    "                break\n",
    "        else:\n",
    "            print(num)"
   ]
  }
 ],
 "metadata": {
  "kernelspec": {
   "display_name": "venv",
   "language": "python",
   "name": "python3"
  },
  "language_info": {
   "codemirror_mode": {
    "name": "ipython",
    "version": 3
   },
   "file_extension": ".py",
   "mimetype": "text/x-python",
   "name": "python",
   "nbconvert_exporter": "python",
   "pygments_lexer": "ipython3",
   "version": "3.10.0"
  }
 },
 "nbformat": 4,
 "nbformat_minor": 5
}
